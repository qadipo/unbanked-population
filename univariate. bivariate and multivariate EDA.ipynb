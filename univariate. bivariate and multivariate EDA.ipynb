{
  "nbformat": 4,
  "nbformat_minor": 0,
  "metadata": {
    "colab": {
      "name": "WEEK 2 Core.ipynb",
      "provenance": [],
      "collapsed_sections": []
    },
    "kernelspec": {
      "name": "python3",
      "display_name": "Python 3"
    }
  },
  "cells": [
    {
      "cell_type": "markdown",
      "metadata": {
        "id": "F4yAO1vwQO4i",
        "colab_type": "text"
      },
      "source": [
        "1. **Defining the question**\n",
        " \n",
        " The main purpose of this analysis is to identify which individuals are most likely to have or use a bank account"
      ]
    },
    {
      "cell_type": "markdown",
      "metadata": {
        "id": "1DHPI7jdLC3-",
        "colab_type": "text"
      },
      "source": [
        "Loading the required libraries"
      ]
    },
    {
      "cell_type": "code",
      "metadata": {
        "id": "Gs5GFnThQCF1",
        "colab_type": "code",
        "colab": {}
      },
      "source": [
        "# importing the necessary libraries\n",
        "import pandas as pd\n",
        "import numpy as np\n",
        "import seaborn as sns\n",
        "import matplotlib.pyplot as plt\n",
        "import scipy.stats\n",
        "from scipy.stats import chi2\n",
        "import sklearn.linear_model as sk\n",
        "from sklearn.metrics import confusion_matrix, classification_report, accuracy_score, roc_auc_score, roc_curve"
      ],
      "execution_count": 260,
      "outputs": []
    },
    {
      "cell_type": "markdown",
      "metadata": {
        "id": "iaNQtqKDLJmm",
        "colab_type": "text"
      },
      "source": [
        "Loading the dataset"
      ]
    },
    {
      "cell_type": "code",
      "metadata": {
        "id": "angrPcKIRu-p",
        "colab_type": "code",
        "colab": {}
      },
      "source": [
        "# Loading the dataset\n",
        "df = pd.read_csv('/content/Financial Dataset - 1.csv')"
      ],
      "execution_count": 225,
      "outputs": []
    },
    {
      "cell_type": "code",
      "metadata": {
        "id": "u3fc8p8QM3Nd",
        "colab_type": "code",
        "colab": {
          "base_uri": "https://localhost:8080/",
          "height": 34
        },
        "outputId": "13309481-89a8-46b5-9dd2-8ee229e9a4d8"
      },
      "source": [
        "# Checking the shape of the data\n",
        "df.shape"
      ],
      "execution_count": 129,
      "outputs": [
        {
          "output_type": "execute_result",
          "data": {
            "text/plain": [
              "(23524, 13)"
            ]
          },
          "metadata": {
            "tags": []
          },
          "execution_count": 129
        }
      ]
    },
    {
      "cell_type": "code",
      "metadata": {
        "id": "TWX4KUAmIv1l",
        "colab_type": "code",
        "colab": {
          "base_uri": "https://localhost:8080/",
          "height": 345
        },
        "outputId": "30935099-7d5a-49ae-87dd-a9932bfeddeb"
      },
      "source": [
        "# Viewing the top values of the data\n",
        "df.head()"
      ],
      "execution_count": 130,
      "outputs": [
        {
          "output_type": "execute_result",
          "data": {
            "text/html": [
              "<div>\n",
              "<style scoped>\n",
              "    .dataframe tbody tr th:only-of-type {\n",
              "        vertical-align: middle;\n",
              "    }\n",
              "\n",
              "    .dataframe tbody tr th {\n",
              "        vertical-align: top;\n",
              "    }\n",
              "\n",
              "    .dataframe thead th {\n",
              "        text-align: right;\n",
              "    }\n",
              "</style>\n",
              "<table border=\"1\" class=\"dataframe\">\n",
              "  <thead>\n",
              "    <tr style=\"text-align: right;\">\n",
              "      <th></th>\n",
              "      <th>country</th>\n",
              "      <th>year</th>\n",
              "      <th>uniqueid</th>\n",
              "      <th>Has a Bank account</th>\n",
              "      <th>Type of Location</th>\n",
              "      <th>Cell Phone Access</th>\n",
              "      <th>household_size</th>\n",
              "      <th>Respondent Age</th>\n",
              "      <th>gender_of_respondent</th>\n",
              "      <th>The relathip with head</th>\n",
              "      <th>marital_status</th>\n",
              "      <th>Level of Educuation</th>\n",
              "      <th>Type of Job</th>\n",
              "    </tr>\n",
              "  </thead>\n",
              "  <tbody>\n",
              "    <tr>\n",
              "      <th>0</th>\n",
              "      <td>Kenya</td>\n",
              "      <td>2018</td>\n",
              "      <td>uniqueid_1</td>\n",
              "      <td>Yes</td>\n",
              "      <td>Rural</td>\n",
              "      <td>Yes</td>\n",
              "      <td>3.0</td>\n",
              "      <td>24.0</td>\n",
              "      <td>Female</td>\n",
              "      <td>Spouse</td>\n",
              "      <td>Married/Living together</td>\n",
              "      <td>Secondary education</td>\n",
              "      <td>Self employed</td>\n",
              "    </tr>\n",
              "    <tr>\n",
              "      <th>1</th>\n",
              "      <td>Kenya</td>\n",
              "      <td>2018</td>\n",
              "      <td>uniqueid_2</td>\n",
              "      <td>No</td>\n",
              "      <td>Rural</td>\n",
              "      <td>No</td>\n",
              "      <td>5.0</td>\n",
              "      <td>70.0</td>\n",
              "      <td>Female</td>\n",
              "      <td>Head of Household</td>\n",
              "      <td>Widowed</td>\n",
              "      <td>No formal education</td>\n",
              "      <td>Government Dependent</td>\n",
              "    </tr>\n",
              "    <tr>\n",
              "      <th>2</th>\n",
              "      <td>Kenya</td>\n",
              "      <td>2018</td>\n",
              "      <td>uniqueid_3</td>\n",
              "      <td>Yes</td>\n",
              "      <td>Urban</td>\n",
              "      <td>Yes</td>\n",
              "      <td>5.0</td>\n",
              "      <td>26.0</td>\n",
              "      <td>Male</td>\n",
              "      <td>Other relative</td>\n",
              "      <td>Single/Never Married</td>\n",
              "      <td>Vocational/Specialised training</td>\n",
              "      <td>Self employed</td>\n",
              "    </tr>\n",
              "    <tr>\n",
              "      <th>3</th>\n",
              "      <td>Kenya</td>\n",
              "      <td>2018</td>\n",
              "      <td>uniqueid_4</td>\n",
              "      <td>No</td>\n",
              "      <td>Rural</td>\n",
              "      <td>Yes</td>\n",
              "      <td>5.0</td>\n",
              "      <td>34.0</td>\n",
              "      <td>Female</td>\n",
              "      <td>Head of Household</td>\n",
              "      <td>Married/Living together</td>\n",
              "      <td>Primary education</td>\n",
              "      <td>Formally employed Private</td>\n",
              "    </tr>\n",
              "    <tr>\n",
              "      <th>4</th>\n",
              "      <td>Kenya</td>\n",
              "      <td>2018</td>\n",
              "      <td>uniqueid_5</td>\n",
              "      <td>No</td>\n",
              "      <td>Urban</td>\n",
              "      <td>No</td>\n",
              "      <td>8.0</td>\n",
              "      <td>26.0</td>\n",
              "      <td>Male</td>\n",
              "      <td>Child</td>\n",
              "      <td>Single/Never Married</td>\n",
              "      <td>Primary education</td>\n",
              "      <td>Informally employed</td>\n",
              "    </tr>\n",
              "  </tbody>\n",
              "</table>\n",
              "</div>"
            ],
            "text/plain": [
              "  country  year  ...              Level of Educuation                Type of Job\n",
              "0   Kenya  2018  ...              Secondary education              Self employed\n",
              "1   Kenya  2018  ...              No formal education       Government Dependent\n",
              "2   Kenya  2018  ...  Vocational/Specialised training              Self employed\n",
              "3   Kenya  2018  ...                Primary education  Formally employed Private\n",
              "4   Kenya  2018  ...                Primary education        Informally employed\n",
              "\n",
              "[5 rows x 13 columns]"
            ]
          },
          "metadata": {
            "tags": []
          },
          "execution_count": 130
        }
      ]
    },
    {
      "cell_type": "code",
      "metadata": {
        "id": "2j4QaYvUMNyy",
        "colab_type": "code",
        "colab": {}
      },
      "source": [
        "# Dropping unnecesary columns\n",
        "# Other columns will be dropped at a later stage\n",
        "df = df.drop(['uniqueid'], axis=1)"
      ],
      "execution_count": 226,
      "outputs": []
    },
    {
      "cell_type": "code",
      "metadata": {
        "id": "Ij4iQBjSSgYP",
        "colab_type": "code",
        "colab": {
          "base_uri": "https://localhost:8080/",
          "height": 310
        },
        "outputId": "7e82024c-3c4a-4663-aab0-134731586398"
      },
      "source": [
        "# Previewing the data\n",
        "df.head()"
      ],
      "execution_count": 133,
      "outputs": [
        {
          "output_type": "execute_result",
          "data": {
            "text/html": [
              "<div>\n",
              "<style scoped>\n",
              "    .dataframe tbody tr th:only-of-type {\n",
              "        vertical-align: middle;\n",
              "    }\n",
              "\n",
              "    .dataframe tbody tr th {\n",
              "        vertical-align: top;\n",
              "    }\n",
              "\n",
              "    .dataframe thead th {\n",
              "        text-align: right;\n",
              "    }\n",
              "</style>\n",
              "<table border=\"1\" class=\"dataframe\">\n",
              "  <thead>\n",
              "    <tr style=\"text-align: right;\">\n",
              "      <th></th>\n",
              "      <th>country</th>\n",
              "      <th>year</th>\n",
              "      <th>Has a Bank account</th>\n",
              "      <th>Type of Location</th>\n",
              "      <th>Cell Phone Access</th>\n",
              "      <th>household_size</th>\n",
              "      <th>Respondent Age</th>\n",
              "      <th>gender_of_respondent</th>\n",
              "      <th>The relathip with head</th>\n",
              "      <th>marital_status</th>\n",
              "      <th>Level of Educuation</th>\n",
              "      <th>Type of Job</th>\n",
              "    </tr>\n",
              "  </thead>\n",
              "  <tbody>\n",
              "    <tr>\n",
              "      <th>0</th>\n",
              "      <td>Kenya</td>\n",
              "      <td>2018</td>\n",
              "      <td>Yes</td>\n",
              "      <td>Rural</td>\n",
              "      <td>Yes</td>\n",
              "      <td>3.0</td>\n",
              "      <td>24.0</td>\n",
              "      <td>Female</td>\n",
              "      <td>Spouse</td>\n",
              "      <td>Married/Living together</td>\n",
              "      <td>Secondary education</td>\n",
              "      <td>Self employed</td>\n",
              "    </tr>\n",
              "    <tr>\n",
              "      <th>1</th>\n",
              "      <td>Kenya</td>\n",
              "      <td>2018</td>\n",
              "      <td>No</td>\n",
              "      <td>Rural</td>\n",
              "      <td>No</td>\n",
              "      <td>5.0</td>\n",
              "      <td>70.0</td>\n",
              "      <td>Female</td>\n",
              "      <td>Head of Household</td>\n",
              "      <td>Widowed</td>\n",
              "      <td>No formal education</td>\n",
              "      <td>Government Dependent</td>\n",
              "    </tr>\n",
              "    <tr>\n",
              "      <th>2</th>\n",
              "      <td>Kenya</td>\n",
              "      <td>2018</td>\n",
              "      <td>Yes</td>\n",
              "      <td>Urban</td>\n",
              "      <td>Yes</td>\n",
              "      <td>5.0</td>\n",
              "      <td>26.0</td>\n",
              "      <td>Male</td>\n",
              "      <td>Other relative</td>\n",
              "      <td>Single/Never Married</td>\n",
              "      <td>Vocational/Specialised training</td>\n",
              "      <td>Self employed</td>\n",
              "    </tr>\n",
              "    <tr>\n",
              "      <th>3</th>\n",
              "      <td>Kenya</td>\n",
              "      <td>2018</td>\n",
              "      <td>No</td>\n",
              "      <td>Rural</td>\n",
              "      <td>Yes</td>\n",
              "      <td>5.0</td>\n",
              "      <td>34.0</td>\n",
              "      <td>Female</td>\n",
              "      <td>Head of Household</td>\n",
              "      <td>Married/Living together</td>\n",
              "      <td>Primary education</td>\n",
              "      <td>Formally employed Private</td>\n",
              "    </tr>\n",
              "    <tr>\n",
              "      <th>4</th>\n",
              "      <td>Kenya</td>\n",
              "      <td>2018</td>\n",
              "      <td>No</td>\n",
              "      <td>Urban</td>\n",
              "      <td>No</td>\n",
              "      <td>8.0</td>\n",
              "      <td>26.0</td>\n",
              "      <td>Male</td>\n",
              "      <td>Child</td>\n",
              "      <td>Single/Never Married</td>\n",
              "      <td>Primary education</td>\n",
              "      <td>Informally employed</td>\n",
              "    </tr>\n",
              "  </tbody>\n",
              "</table>\n",
              "</div>"
            ],
            "text/plain": [
              "  country  year  ...              Level of Educuation                Type of Job\n",
              "0   Kenya  2018  ...              Secondary education              Self employed\n",
              "1   Kenya  2018  ...              No formal education       Government Dependent\n",
              "2   Kenya  2018  ...  Vocational/Specialised training              Self employed\n",
              "3   Kenya  2018  ...                Primary education  Formally employed Private\n",
              "4   Kenya  2018  ...                Primary education        Informally employed\n",
              "\n",
              "[5 rows x 12 columns]"
            ]
          },
          "metadata": {
            "tags": []
          },
          "execution_count": 133
        }
      ]
    },
    {
      "cell_type": "code",
      "metadata": {
        "id": "GvEnBSYwJAIN",
        "colab_type": "code",
        "colab": {
          "base_uri": "https://localhost:8080/",
          "height": 310
        },
        "outputId": "db8211e3-8b6e-4cef-bb8d-3b9eecd7262b"
      },
      "source": [
        "# Viewing the bottom values of the dataset\n",
        "df.tail()"
      ],
      "execution_count": 134,
      "outputs": [
        {
          "output_type": "execute_result",
          "data": {
            "text/html": [
              "<div>\n",
              "<style scoped>\n",
              "    .dataframe tbody tr th:only-of-type {\n",
              "        vertical-align: middle;\n",
              "    }\n",
              "\n",
              "    .dataframe tbody tr th {\n",
              "        vertical-align: top;\n",
              "    }\n",
              "\n",
              "    .dataframe thead th {\n",
              "        text-align: right;\n",
              "    }\n",
              "</style>\n",
              "<table border=\"1\" class=\"dataframe\">\n",
              "  <thead>\n",
              "    <tr style=\"text-align: right;\">\n",
              "      <th></th>\n",
              "      <th>country</th>\n",
              "      <th>year</th>\n",
              "      <th>Has a Bank account</th>\n",
              "      <th>Type of Location</th>\n",
              "      <th>Cell Phone Access</th>\n",
              "      <th>household_size</th>\n",
              "      <th>Respondent Age</th>\n",
              "      <th>gender_of_respondent</th>\n",
              "      <th>The relathip with head</th>\n",
              "      <th>marital_status</th>\n",
              "      <th>Level of Educuation</th>\n",
              "      <th>Type of Job</th>\n",
              "    </tr>\n",
              "  </thead>\n",
              "  <tbody>\n",
              "    <tr>\n",
              "      <th>23519</th>\n",
              "      <td>Uganda</td>\n",
              "      <td>2018</td>\n",
              "      <td>No</td>\n",
              "      <td>Rural</td>\n",
              "      <td>Yes</td>\n",
              "      <td>4.0</td>\n",
              "      <td>48.0</td>\n",
              "      <td>Female</td>\n",
              "      <td>Head of Household</td>\n",
              "      <td>Divorced/Seperated</td>\n",
              "      <td>No formal education</td>\n",
              "      <td>Other Income</td>\n",
              "    </tr>\n",
              "    <tr>\n",
              "      <th>23520</th>\n",
              "      <td>Uganda</td>\n",
              "      <td>2018</td>\n",
              "      <td>No</td>\n",
              "      <td>Rural</td>\n",
              "      <td>Yes</td>\n",
              "      <td>2.0</td>\n",
              "      <td>27.0</td>\n",
              "      <td>Female</td>\n",
              "      <td>Head of Household</td>\n",
              "      <td>Single/Never Married</td>\n",
              "      <td>Secondary education</td>\n",
              "      <td>Other Income</td>\n",
              "    </tr>\n",
              "    <tr>\n",
              "      <th>23521</th>\n",
              "      <td>Uganda</td>\n",
              "      <td>2018</td>\n",
              "      <td>No</td>\n",
              "      <td>Rural</td>\n",
              "      <td>Yes</td>\n",
              "      <td>5.0</td>\n",
              "      <td>27.0</td>\n",
              "      <td>Female</td>\n",
              "      <td>Parent</td>\n",
              "      <td>Widowed</td>\n",
              "      <td>Primary education</td>\n",
              "      <td>Other Income</td>\n",
              "    </tr>\n",
              "    <tr>\n",
              "      <th>23522</th>\n",
              "      <td>Uganda</td>\n",
              "      <td>2018</td>\n",
              "      <td>No</td>\n",
              "      <td>Urban</td>\n",
              "      <td>Yes</td>\n",
              "      <td>7.0</td>\n",
              "      <td>30.0</td>\n",
              "      <td>Female</td>\n",
              "      <td>Parent</td>\n",
              "      <td>Divorced/Seperated</td>\n",
              "      <td>Secondary education</td>\n",
              "      <td>Self employed</td>\n",
              "    </tr>\n",
              "    <tr>\n",
              "      <th>23523</th>\n",
              "      <td>Uganda</td>\n",
              "      <td>2018</td>\n",
              "      <td>No</td>\n",
              "      <td>Rural</td>\n",
              "      <td>Yes</td>\n",
              "      <td>10.0</td>\n",
              "      <td>20.0</td>\n",
              "      <td>Male</td>\n",
              "      <td>Child</td>\n",
              "      <td>Single/Never Married</td>\n",
              "      <td>Secondary education</td>\n",
              "      <td>No Income</td>\n",
              "    </tr>\n",
              "  </tbody>\n",
              "</table>\n",
              "</div>"
            ],
            "text/plain": [
              "      country  year  ...  Level of Educuation    Type of Job\n",
              "23519  Uganda  2018  ...  No formal education   Other Income\n",
              "23520  Uganda  2018  ...  Secondary education   Other Income\n",
              "23521  Uganda  2018  ...    Primary education   Other Income\n",
              "23522  Uganda  2018  ...  Secondary education  Self employed\n",
              "23523  Uganda  2018  ...  Secondary education      No Income\n",
              "\n",
              "[5 rows x 12 columns]"
            ]
          },
          "metadata": {
            "tags": []
          },
          "execution_count": 134
        }
      ]
    },
    {
      "cell_type": "code",
      "metadata": {
        "id": "f0fPnDONJIK1",
        "colab_type": "code",
        "colab": {
          "base_uri": "https://localhost:8080/",
          "height": 447
        },
        "outputId": "97463ca1-0d72-4951-9013-93ecc085f7a8"
      },
      "source": [
        "# Checking the general information of the data\n",
        "df.describe(include='all')"
      ],
      "execution_count": 135,
      "outputs": [
        {
          "output_type": "execute_result",
          "data": {
            "text/html": [
              "<div>\n",
              "<style scoped>\n",
              "    .dataframe tbody tr th:only-of-type {\n",
              "        vertical-align: middle;\n",
              "    }\n",
              "\n",
              "    .dataframe tbody tr th {\n",
              "        vertical-align: top;\n",
              "    }\n",
              "\n",
              "    .dataframe thead th {\n",
              "        text-align: right;\n",
              "    }\n",
              "</style>\n",
              "<table border=\"1\" class=\"dataframe\">\n",
              "  <thead>\n",
              "    <tr style=\"text-align: right;\">\n",
              "      <th></th>\n",
              "      <th>country</th>\n",
              "      <th>year</th>\n",
              "      <th>Has a Bank account</th>\n",
              "      <th>Type of Location</th>\n",
              "      <th>Cell Phone Access</th>\n",
              "      <th>household_size</th>\n",
              "      <th>Respondent Age</th>\n",
              "      <th>gender_of_respondent</th>\n",
              "      <th>The relathip with head</th>\n",
              "      <th>marital_status</th>\n",
              "      <th>Level of Educuation</th>\n",
              "      <th>Type of Job</th>\n",
              "    </tr>\n",
              "  </thead>\n",
              "  <tbody>\n",
              "    <tr>\n",
              "      <th>count</th>\n",
              "      <td>23510</td>\n",
              "      <td>23524.000000</td>\n",
              "      <td>23488</td>\n",
              "      <td>23509</td>\n",
              "      <td>23513</td>\n",
              "      <td>23496.000000</td>\n",
              "      <td>23490.000000</td>\n",
              "      <td>23490</td>\n",
              "      <td>23520</td>\n",
              "      <td>23492</td>\n",
              "      <td>23495</td>\n",
              "      <td>23494</td>\n",
              "    </tr>\n",
              "    <tr>\n",
              "      <th>unique</th>\n",
              "      <td>4</td>\n",
              "      <td>NaN</td>\n",
              "      <td>2</td>\n",
              "      <td>2</td>\n",
              "      <td>2</td>\n",
              "      <td>NaN</td>\n",
              "      <td>NaN</td>\n",
              "      <td>2</td>\n",
              "      <td>6</td>\n",
              "      <td>5</td>\n",
              "      <td>7</td>\n",
              "      <td>10</td>\n",
              "    </tr>\n",
              "    <tr>\n",
              "      <th>top</th>\n",
              "      <td>Rwanda</td>\n",
              "      <td>NaN</td>\n",
              "      <td>No</td>\n",
              "      <td>Rural</td>\n",
              "      <td>Yes</td>\n",
              "      <td>NaN</td>\n",
              "      <td>NaN</td>\n",
              "      <td>Female</td>\n",
              "      <td>Head of Household</td>\n",
              "      <td>Married/Living together</td>\n",
              "      <td>Primary education</td>\n",
              "      <td>Self employed</td>\n",
              "    </tr>\n",
              "    <tr>\n",
              "      <th>freq</th>\n",
              "      <td>8735</td>\n",
              "      <td>NaN</td>\n",
              "      <td>20179</td>\n",
              "      <td>14338</td>\n",
              "      <td>17449</td>\n",
              "      <td>NaN</td>\n",
              "      <td>NaN</td>\n",
              "      <td>13859</td>\n",
              "      <td>12829</td>\n",
              "      <td>10739</td>\n",
              "      <td>12775</td>\n",
              "      <td>6428</td>\n",
              "    </tr>\n",
              "    <tr>\n",
              "      <th>mean</th>\n",
              "      <td>NaN</td>\n",
              "      <td>2016.979000</td>\n",
              "      <td>NaN</td>\n",
              "      <td>NaN</td>\n",
              "      <td>NaN</td>\n",
              "      <td>3.681818</td>\n",
              "      <td>38.804300</td>\n",
              "      <td>NaN</td>\n",
              "      <td>NaN</td>\n",
              "      <td>NaN</td>\n",
              "      <td>NaN</td>\n",
              "      <td>NaN</td>\n",
              "    </tr>\n",
              "    <tr>\n",
              "      <th>std</th>\n",
              "      <td>NaN</td>\n",
              "      <td>0.899669</td>\n",
              "      <td>NaN</td>\n",
              "      <td>NaN</td>\n",
              "      <td>NaN</td>\n",
              "      <td>2.279933</td>\n",
              "      <td>16.519996</td>\n",
              "      <td>NaN</td>\n",
              "      <td>NaN</td>\n",
              "      <td>NaN</td>\n",
              "      <td>NaN</td>\n",
              "      <td>NaN</td>\n",
              "    </tr>\n",
              "    <tr>\n",
              "      <th>min</th>\n",
              "      <td>NaN</td>\n",
              "      <td>2016.000000</td>\n",
              "      <td>NaN</td>\n",
              "      <td>NaN</td>\n",
              "      <td>NaN</td>\n",
              "      <td>0.000000</td>\n",
              "      <td>16.000000</td>\n",
              "      <td>NaN</td>\n",
              "      <td>NaN</td>\n",
              "      <td>NaN</td>\n",
              "      <td>NaN</td>\n",
              "      <td>NaN</td>\n",
              "    </tr>\n",
              "    <tr>\n",
              "      <th>25%</th>\n",
              "      <td>NaN</td>\n",
              "      <td>2016.000000</td>\n",
              "      <td>NaN</td>\n",
              "      <td>NaN</td>\n",
              "      <td>NaN</td>\n",
              "      <td>2.000000</td>\n",
              "      <td>26.000000</td>\n",
              "      <td>NaN</td>\n",
              "      <td>NaN</td>\n",
              "      <td>NaN</td>\n",
              "      <td>NaN</td>\n",
              "      <td>NaN</td>\n",
              "    </tr>\n",
              "    <tr>\n",
              "      <th>50%</th>\n",
              "      <td>NaN</td>\n",
              "      <td>2017.000000</td>\n",
              "      <td>NaN</td>\n",
              "      <td>NaN</td>\n",
              "      <td>NaN</td>\n",
              "      <td>3.000000</td>\n",
              "      <td>35.000000</td>\n",
              "      <td>NaN</td>\n",
              "      <td>NaN</td>\n",
              "      <td>NaN</td>\n",
              "      <td>NaN</td>\n",
              "      <td>NaN</td>\n",
              "    </tr>\n",
              "    <tr>\n",
              "      <th>75%</th>\n",
              "      <td>NaN</td>\n",
              "      <td>2018.000000</td>\n",
              "      <td>NaN</td>\n",
              "      <td>NaN</td>\n",
              "      <td>NaN</td>\n",
              "      <td>5.000000</td>\n",
              "      <td>49.000000</td>\n",
              "      <td>NaN</td>\n",
              "      <td>NaN</td>\n",
              "      <td>NaN</td>\n",
              "      <td>NaN</td>\n",
              "      <td>NaN</td>\n",
              "    </tr>\n",
              "    <tr>\n",
              "      <th>max</th>\n",
              "      <td>NaN</td>\n",
              "      <td>2056.000000</td>\n",
              "      <td>NaN</td>\n",
              "      <td>NaN</td>\n",
              "      <td>NaN</td>\n",
              "      <td>21.000000</td>\n",
              "      <td>100.000000</td>\n",
              "      <td>NaN</td>\n",
              "      <td>NaN</td>\n",
              "      <td>NaN</td>\n",
              "      <td>NaN</td>\n",
              "      <td>NaN</td>\n",
              "    </tr>\n",
              "  </tbody>\n",
              "</table>\n",
              "</div>"
            ],
            "text/plain": [
              "       country          year  ... Level of Educuation    Type of Job\n",
              "count    23510  23524.000000  ...               23495          23494\n",
              "unique       4           NaN  ...                   7             10\n",
              "top     Rwanda           NaN  ...   Primary education  Self employed\n",
              "freq      8735           NaN  ...               12775           6428\n",
              "mean       NaN   2016.979000  ...                 NaN            NaN\n",
              "std        NaN      0.899669  ...                 NaN            NaN\n",
              "min        NaN   2016.000000  ...                 NaN            NaN\n",
              "25%        NaN   2016.000000  ...                 NaN            NaN\n",
              "50%        NaN   2017.000000  ...                 NaN            NaN\n",
              "75%        NaN   2018.000000  ...                 NaN            NaN\n",
              "max        NaN   2056.000000  ...                 NaN            NaN\n",
              "\n",
              "[11 rows x 12 columns]"
            ]
          },
          "metadata": {
            "tags": []
          },
          "execution_count": 135
        }
      ]
    },
    {
      "cell_type": "code",
      "metadata": {
        "id": "WAWgu3oeJbRU",
        "colab_type": "code",
        "colab": {
          "base_uri": "https://localhost:8080/",
          "height": 243
        },
        "outputId": "0531ad0f-966e-4bd2-8ca6-7af50e7691c1"
      },
      "source": [
        "# Confirming the correctness of the data types within the dataframe\n",
        "df.dtypes"
      ],
      "execution_count": 136,
      "outputs": [
        {
          "output_type": "execute_result",
          "data": {
            "text/plain": [
              "country                    object\n",
              "year                        int64\n",
              "Has a Bank account         object\n",
              "Type of Location           object\n",
              "Cell Phone Access          object\n",
              "household_size            float64\n",
              "Respondent Age            float64\n",
              "gender_of_respondent       object\n",
              "The relathip with head     object\n",
              "marital_status             object\n",
              "Level of Educuation        object\n",
              "Type of Job                object\n",
              "dtype: object"
            ]
          },
          "metadata": {
            "tags": []
          },
          "execution_count": 136
        }
      ]
    },
    {
      "cell_type": "code",
      "metadata": {
        "id": "7Nyyb6asWLC9",
        "colab_type": "code",
        "colab": {}
      },
      "source": [
        "# Cleaning column headers\n",
        "df.columns = df.columns.str.strip().str.lower().str.replace(' ', '_')"
      ],
      "execution_count": 227,
      "outputs": []
    },
    {
      "cell_type": "code",
      "metadata": {
        "id": "AfUFEljdJ19G",
        "colab_type": "code",
        "colab": {
          "base_uri": "https://localhost:8080/",
          "height": 243
        },
        "outputId": "c4e95bb9-8f71-4be0-bc31-eab9559a7b32"
      },
      "source": [
        "# Checking for missing values\n",
        "df.isnull().sum()"
      ],
      "execution_count": 138,
      "outputs": [
        {
          "output_type": "execute_result",
          "data": {
            "text/plain": [
              "country                   14\n",
              "year                       0\n",
              "has_a_bank_account        36\n",
              "type_of_location          15\n",
              "cell_phone_access         11\n",
              "household_size            28\n",
              "respondent_age            34\n",
              "gender_of_respondent      34\n",
              "the_relathip_with_head     4\n",
              "marital_status            32\n",
              "level_of_educuation       29\n",
              "type_of_job               30\n",
              "dtype: int64"
            ]
          },
          "metadata": {
            "tags": []
          },
          "execution_count": 138
        }
      ]
    },
    {
      "cell_type": "code",
      "metadata": {
        "id": "kLJ0YJb4Mvlo",
        "colab_type": "code",
        "colab": {}
      },
      "source": [
        "# Removing duplicate values\n",
        "df = df.drop_duplicates()"
      ],
      "execution_count": 139,
      "outputs": []
    },
    {
      "cell_type": "code",
      "metadata": {
        "id": "9DeNpW0hM_EU",
        "colab_type": "code",
        "colab": {
          "base_uri": "https://localhost:8080/",
          "height": 34
        },
        "outputId": "971a980f-8c0a-4624-c0dd-07a3460a24c7"
      },
      "source": [
        "# Checking if there is any change after dropping duplicates\n",
        "df.shape"
      ],
      "execution_count": 140,
      "outputs": [
        {
          "output_type": "execute_result",
          "data": {
            "text/plain": [
              "(19151, 12)"
            ]
          },
          "metadata": {
            "tags": []
          },
          "execution_count": 140
        }
      ]
    },
    {
      "cell_type": "markdown",
      "metadata": {
        "id": "SRKhVkYNXaY9",
        "colab_type": "text"
      },
      "source": [
        "**2. UNIVARIATE ANALYSIS**"
      ]
    },
    {
      "cell_type": "markdown",
      "metadata": {
        "id": "QDEV_Yr1PMJe",
        "colab_type": "text"
      },
      "source": [
        "*country column*"
      ]
    },
    {
      "cell_type": "code",
      "metadata": {
        "id": "xaxc_Iq4NO8s",
        "colab_type": "code",
        "colab": {
          "base_uri": "https://localhost:8080/",
          "height": 104
        },
        "outputId": "126655f5-3cb3-4cb8-cd08-2890f2f29749"
      },
      "source": [
        "# Country participating in the survey summary\n",
        "df.country.value_counts()"
      ],
      "execution_count": 141,
      "outputs": [
        {
          "output_type": "execute_result",
          "data": {
            "text/plain": [
              "Rwanda      6699\n",
              "Kenya       5617\n",
              "Tanzania    4846\n",
              "Uganda      1975\n",
              "Name: country, dtype: int64"
            ]
          },
          "metadata": {
            "tags": []
          },
          "execution_count": 141
        }
      ]
    },
    {
      "cell_type": "code",
      "metadata": {
        "id": "KCQw5_HJYedQ",
        "colab_type": "code",
        "colab": {
          "base_uri": "https://localhost:8080/",
          "height": 264
        },
        "outputId": "02cc3ad9-ecab-455f-a8b2-3fabaf9495a4"
      },
      "source": [
        "# Visualizing the counts using a pie chart\n",
        "x = list(df.country.value_counts())\n",
        "labels = ['Rwanda','Tanzania','Kenya','Uganda']\n",
        "colors = ['gold', 'yellowgreen', 'lightcoral', 'lightskyblue']\n",
        "explode = (0.1, 0.15, 0.2, 0.25)\n",
        "plt.pie(x, explode=explode, labels=labels, colors=colors,\n",
        "autopct='%1.1f%%', shadow=True, startangle=140)\n",
        "\n",
        "plt.axis('equal')\n",
        "plt.title('Participation per country in the survey')\n",
        "plt.show()"
      ],
      "execution_count": 142,
      "outputs": [
        {
          "output_type": "display_data",
          "data": {
            "image/png": "[encoded data removed]",
            "text/plain": [
              "<Figure size 432x288 with 1 Axes>"
            ]
          },
          "metadata": {
            "tags": []
          }
        }
      ]
    },
    {
      "cell_type": "markdown",
      "metadata": {
        "id": "Z18YcKKi8F1R",
        "colab_type": "text"
      },
      "source": [
        "**Findings**\n",
        "\n",
        "There were more respondents in Rwanda than in Kenya for the study"
      ]
    },
    {
      "cell_type": "markdown",
      "metadata": {
        "id": "6HlzzOXkPUcT",
        "colab_type": "text"
      },
      "source": [
        "*Year*"
      ]
    },
    {
      "cell_type": "code",
      "metadata": {
        "id": "4KYpsxYtfSq_",
        "colab_type": "code",
        "colab": {
          "base_uri": "https://localhost:8080/",
          "height": 34
        },
        "outputId": "d1669383-3070-427e-c14b-f2d96a1673d3"
      },
      "source": [
        "# Looking at the years\n",
        "df.year.unique()"
      ],
      "execution_count": 143,
      "outputs": [
        {
          "output_type": "execute_result",
          "data": {
            "text/plain": [
              "array([2018, 2029, 2056, 2016, 2039, 2017])"
            ]
          },
          "metadata": {
            "tags": []
          },
          "execution_count": 143
        }
      ]
    },
    {
      "cell_type": "code",
      "metadata": {
        "id": "bkkJLfVWfdyn",
        "colab_type": "code",
        "colab": {
          "base_uri": "https://localhost:8080/",
          "height": 139
        },
        "outputId": "b28555a1-cdb8-48ef-e7cb-584e2e8ba4bf"
      },
      "source": [
        "# Clearly there are entries that have not been encoded correctly\n",
        "df.year.value_counts()"
      ],
      "execution_count": 144,
      "outputs": [
        {
          "output_type": "execute_result",
          "data": {
            "text/plain": [
              "2018    7590\n",
              "2016    6698\n",
              "2017    4860\n",
              "2029       1\n",
              "2056       1\n",
              "2039       1\n",
              "Name: year, dtype: int64"
            ]
          },
          "metadata": {
            "tags": []
          },
          "execution_count": 144
        }
      ]
    },
    {
      "cell_type": "code",
      "metadata": {
        "id": "FL1evjxHpC2u",
        "colab_type": "code",
        "colab": {}
      },
      "source": [
        "# # Since they are only three which is negligible we can redistribute them back uniformly over the remaining years\n",
        "df['year'] = df['year'].replace([2029,2056,2039],[2017,2016,2018])"
      ],
      "execution_count": 145,
      "outputs": []
    },
    {
      "cell_type": "code",
      "metadata": {
        "id": "9EmrTakRLZ9I",
        "colab_type": "code",
        "colab": {}
      },
      "source": [
        "# font dictinary\n",
        "title = {'family': 'comic','color':  'darkred','weight': 'normal','size': 14}\n",
        "others = {'family': 'comic','color':  'blue','weight': 'normal','size': 10}"
      ],
      "execution_count": 146,
      "outputs": []
    },
    {
      "cell_type": "code",
      "metadata": {
        "id": "vwS0624MdCvg",
        "colab_type": "code",
        "colab": {
          "base_uri": "https://localhost:8080/",
          "height": 329
        },
        "outputId": "41309cc1-fb0e-4384-94d9-3237b87cf9e8"
      },
      "source": [
        "# Number of participants over the years\n",
        "df['year'].value_counts().sort_index().plot.bar()\n",
        "plt.title('Number of people surveyed ovr the years', fontdict=title)\n",
        "plt.xlabel('Year', fontdict=others)\n",
        "plt.ylabel('Count', fontdict=others)"
      ],
      "execution_count": 147,
      "outputs": [
        {
          "output_type": "execute_result",
          "data": {
            "text/plain": [
              "Text(0, 0.5, 'Count')"
            ]
          },
          "metadata": {
            "tags": []
          },
          "execution_count": 147
        },
        {
          "output_type": "display_data",
          "data": {
            "image/png": "[encoded data removed]",
            "text/plain": [
              "<Figure size 432x288 with 1 Axes>"
            ]
          },
          "metadata": {
            "tags": [],
            "needs_background": "light"
          }
        }
      ]
    },
    {
      "cell_type": "markdown",
      "metadata": {
        "id": "elujYh_OamO7",
        "colab_type": "text"
      },
      "source": [
        "*has_a_bank_account column*"
      ]
    },
    {
      "cell_type": "code",
      "metadata": {
        "id": "PTz-DuNjqGXK",
        "colab_type": "code",
        "colab": {
          "base_uri": "https://localhost:8080/",
          "height": 69
        },
        "outputId": "fc6cc7ac-3510-4540-ccf5-fbed6d72eb31"
      },
      "source": [
        "# Looking at the has_a_bank_account column\n",
        "df.has_a_bank_account.value_counts()"
      ],
      "execution_count": 148,
      "outputs": [
        {
          "output_type": "execute_result",
          "data": {
            "text/plain": [
              "No     15971\n",
              "Yes     3144\n",
              "Name: has_a_bank_account, dtype: int64"
            ]
          },
          "metadata": {
            "tags": []
          },
          "execution_count": 148
        }
      ]
    },
    {
      "cell_type": "code",
      "metadata": {
        "id": "A4_Ukz0uwHUl",
        "colab_type": "code",
        "colab": {
          "base_uri": "https://localhost:8080/",
          "height": 264
        },
        "outputId": "8a6c1112-5710-4013-842e-21f1abdd1238"
      },
      "source": [
        "# Visualising proportion of the bank and unbanked population\n",
        "x = list(df.has_a_bank_account.value_counts())\n",
        "labels = ['NO','YES']\n",
        "colors = ['red', 'green']\n",
        "explode = (0.1, 0)\n",
        "plt.pie(x, explode=explode, labels=labels, colors=colors,\n",
        "autopct='%1.1f%%', shadow=True, startangle=140)\n",
        "\n",
        "plt.axis('equal')\n",
        "plt.title('Proportion with(out) Bank Account')\n",
        "plt.show()"
      ],
      "execution_count": 149,
      "outputs": [
        {
          "output_type": "display_data",
          "data": {
            "image/png": "[encoded data removed]",
            "text/plain": [
              "<Figure size 432x288 with 1 Axes>"
            ]
          },
          "metadata": {
            "tags": []
          }
        }
      ]
    },
    {
      "cell_type": "code",
      "metadata": {
        "id": "MpdZ3L5tw0Zv",
        "colab_type": "code",
        "colab": {
          "base_uri": "https://localhost:8080/",
          "height": 319
        },
        "outputId": "b2e68d92-1e34-4708-9d6a-0d3e150b0c9e"
      },
      "source": [
        "# Visualization per country\n",
        "# KENYA\n",
        "df[df.country == 'Kenya']['has_a_bank_account'].value_counts().plot.bar()\n",
        "plt.title('KENYA: Bank account holding status', fontdict=title)\n",
        "plt.xlabel('State', fontdict=others)\n",
        "plt.ylabel('Count', fontdict=others)"
      ],
      "execution_count": 150,
      "outputs": [
        {
          "output_type": "execute_result",
          "data": {
            "text/plain": [
              "Text(0, 0.5, 'Count')"
            ]
          },
          "metadata": {
            "tags": []
          },
          "execution_count": 150
        },
        {
          "output_type": "display_data",
          "data": {
            "image/png": "[encoded data removed]",
            "text/plain": [
              "<Figure size 432x288 with 1 Axes>"
            ]
          },
          "metadata": {
            "tags": [],
            "needs_background": "light"
          }
        }
      ]
    },
    {
      "cell_type": "code",
      "metadata": {
        "id": "Nrpz7hmLzolW",
        "colab_type": "code",
        "colab": {
          "base_uri": "https://localhost:8080/",
          "height": 319
        },
        "outputId": "a2503fc6-b4cc-42af-b205-fcb33ac60ca3"
      },
      "source": [
        "# RWANDA\n",
        "df[df.country == 'Rwanda']['has_a_bank_account'].value_counts().plot.bar()\n",
        "plt.title('RWANDA: Bank account holding status', fontdict=title)\n",
        "plt.xlabel('State', fontdict=others)\n",
        "plt.ylabel('Count', fontdict=others)"
      ],
      "execution_count": 151,
      "outputs": [
        {
          "output_type": "execute_result",
          "data": {
            "text/plain": [
              "Text(0, 0.5, 'Count')"
            ]
          },
          "metadata": {
            "tags": []
          },
          "execution_count": 151
        },
        {
          "output_type": "display_data",
          "data": {
            "image/png": "[encoded data removed]",
            "text/plain": [
              "<Figure size 432x288 with 1 Axes>"
            ]
          },
          "metadata": {
            "tags": [],
            "needs_background": "light"
          }
        }
      ]
    },
    {
      "cell_type": "code",
      "metadata": {
        "id": "4w3hi3dhzvuW",
        "colab_type": "code",
        "colab": {
          "base_uri": "https://localhost:8080/",
          "height": 319
        },
        "outputId": "281a7aa5-5065-4de4-baa6-db176d4808ea"
      },
      "source": [
        "# UGANDA\n",
        "df[df.country == 'Uganda']['has_a_bank_account'].value_counts().plot.bar()\n",
        "plt.title('UGANDA: Bank account holding status', fontdict=title)\n",
        "plt.xlabel('State', fontdict=others)\n",
        "plt.ylabel('Count', fontdict=others)"
      ],
      "execution_count": 152,
      "outputs": [
        {
          "output_type": "execute_result",
          "data": {
            "text/plain": [
              "Text(0, 0.5, 'Count')"
            ]
          },
          "metadata": {
            "tags": []
          },
          "execution_count": 152
        },
        {
          "output_type": "display_data",
          "data": {
            "image/png": "[encoded data removed]",
            "text/plain": [
              "<Figure size 432x288 with 1 Axes>"
            ]
          },
          "metadata": {
            "tags": [],
            "needs_background": "light"
          }
        }
      ]
    },
    {
      "cell_type": "code",
      "metadata": {
        "id": "zJOMDuMez2sz",
        "colab_type": "code",
        "colab": {
          "base_uri": "https://localhost:8080/",
          "height": 319
        },
        "outputId": "fde472fb-26ba-4c55-b64a-e0a67d1dddd0"
      },
      "source": [
        "# TANZANIA\n",
        "df[df.country == 'Tanzania']['has_a_bank_account'].value_counts().plot.bar()\n",
        "plt.title('TANZANIA: Bank account holding status', fontdict=title)\n",
        "plt.xlabel('State', fontdict=others)\n",
        "plt.ylabel('Count', fontdict=others)"
      ],
      "execution_count": 153,
      "outputs": [
        {
          "output_type": "execute_result",
          "data": {
            "text/plain": [
              "Text(0, 0.5, 'Count')"
            ]
          },
          "metadata": {
            "tags": []
          },
          "execution_count": 153
        },
        {
          "output_type": "display_data",
          "data": {
            "image/png": "[encoded data removed]",
            "text/plain": [
              "<Figure size 432x288 with 1 Axes>"
            ]
          },
          "metadata": {
            "tags": [],
            "needs_background": "light"
          }
        }
      ]
    },
    {
      "cell_type": "markdown",
      "metadata": {
        "id": "RBuapGNC7xdP",
        "colab_type": "text"
      },
      "source": [
        "**Findings**\n",
        "\n",
        "Most of the respondents are NOT formally banked **(85.9%)**\n",
        "\n",
        "Country level reveal the same"
      ]
    },
    {
      "cell_type": "markdown",
      "metadata": {
        "id": "xauVUuaOazyS",
        "colab_type": "text"
      },
      "source": [
        "*type_of_location column*"
      ]
    },
    {
      "cell_type": "code",
      "metadata": {
        "id": "RRR0df_Tz_3G",
        "colab_type": "code",
        "colab": {
          "base_uri": "https://localhost:8080/",
          "height": 69
        },
        "outputId": "3096c984-24e1-42c0-d6fd-d6a11b5c930b"
      },
      "source": [
        "# Looking at the location\n",
        "df.type_of_location.value_counts()"
      ],
      "execution_count": 154,
      "outputs": [
        {
          "output_type": "execute_result",
          "data": {
            "text/plain": [
              "Rural    11744\n",
              "Urban     7392\n",
              "Name: type_of_location, dtype: int64"
            ]
          },
          "metadata": {
            "tags": []
          },
          "execution_count": 154
        }
      ]
    },
    {
      "cell_type": "code",
      "metadata": {
        "id": "o-qARqAg45qE",
        "colab_type": "code",
        "colab": {
          "base_uri": "https://localhost:8080/",
          "height": 334
        },
        "outputId": "1dbf7c37-e968-46d4-f28c-f8b6009b52b4"
      },
      "source": [
        "# Graphing location of those who participated in the survey\n",
        "df.type_of_location.value_counts().plot.bar()\n",
        "plt.title('Dstribution of the surveyed', fontdict=title)\n",
        "plt.xlabel('WHERE', fontdict=others)\n",
        "plt.ylabel('COUNT', fontdict=others)"
      ],
      "execution_count": 155,
      "outputs": [
        {
          "output_type": "execute_result",
          "data": {
            "text/plain": [
              "Text(0, 0.5, 'COUNT')"
            ]
          },
          "metadata": {
            "tags": []
          },
          "execution_count": 155
        },
        {
          "output_type": "display_data",
          "data": {
            "image/png": "[encoded data removed]",
            "text/plain": [
              "<Figure size 432x288 with 1 Axes>"
            ]
          },
          "metadata": {
            "tags": [],
            "needs_background": "light"
          }
        }
      ]
    },
    {
      "cell_type": "markdown",
      "metadata": {
        "id": "2lkcUIcE7lP0",
        "colab_type": "text"
      },
      "source": [
        "**Findings**\n",
        "\n",
        "Most of the respondents dwell in the rural area"
      ]
    },
    {
      "cell_type": "markdown",
      "metadata": {
        "id": "SR2VKSGGbG0N",
        "colab_type": "text"
      },
      "source": [
        "*cell_phone_access column*"
      ]
    },
    {
      "cell_type": "code",
      "metadata": {
        "id": "QfTmu7Vv5gmT",
        "colab_type": "code",
        "colab": {
          "base_uri": "https://localhost:8080/",
          "height": 319
        },
        "outputId": "ce291f1b-e3e3-49e1-9bbb-7abf8705ef1e"
      },
      "source": [
        "# Cell Phone Access\n",
        "df.cell_phone_access.value_counts().plot.bar()\n",
        "plt.title('Cellphone holding status', fontdict=title)\n",
        "plt.xlabel('STATUS', fontdict=others)\n",
        "plt.ylabel('COUNT', fontdict=others)"
      ],
      "execution_count": 156,
      "outputs": [
        {
          "output_type": "execute_result",
          "data": {
            "text/plain": [
              "Text(0, 0.5, 'COUNT')"
            ]
          },
          "metadata": {
            "tags": []
          },
          "execution_count": 156
        },
        {
          "output_type": "display_data",
          "data": {
            "image/png": "[encoded data removed]",
            "text/plain": [
              "<Figure size 432x288 with 1 Axes>"
            ]
          },
          "metadata": {
            "tags": [],
            "needs_background": "light"
          }
        }
      ]
    },
    {
      "cell_type": "markdown",
      "metadata": {
        "id": "bBCynJgs6zPd",
        "colab_type": "text"
      },
      "source": [
        "**Findings**:\n",
        "\n",
        "Most of the repondents own a cellphone.\n",
        "\n",
        "**Recommendation**\n",
        "\n",
        "Innovation around the cellphone can ensure a huge number of the population is banked since most own a cell phone."
      ]
    },
    {
      "cell_type": "markdown",
      "metadata": {
        "id": "XW2VfE0b6NAU",
        "colab_type": "text"
      },
      "source": [
        "*household_size column*"
      ]
    },
    {
      "cell_type": "code",
      "metadata": {
        "id": "TMzEPBbe6D2N",
        "colab_type": "code",
        "colab": {
          "base_uri": "https://localhost:8080/",
          "height": 34
        },
        "outputId": "b76d0720-e6cb-4a1b-b7f9-eed9862c2be1"
      },
      "source": [
        "# Average household size\n",
        "df.household_size.mean()"
      ],
      "execution_count": 157,
      "outputs": [
        {
          "output_type": "execute_result",
          "data": {
            "text/plain": [
              "3.742051871993307"
            ]
          },
          "metadata": {
            "tags": []
          },
          "execution_count": 157
        }
      ]
    },
    {
      "cell_type": "code",
      "metadata": {
        "id": "rJkeIbRX69In",
        "colab_type": "code",
        "colab": {
          "base_uri": "https://localhost:8080/",
          "height": 52
        },
        "outputId": "e3fa71a5-ec11-499e-82fb-d5588d703e5a"
      },
      "source": [
        "# Most frequent family sizes\n",
        "df.household_size.mode()"
      ],
      "execution_count": 158,
      "outputs": [
        {
          "output_type": "execute_result",
          "data": {
            "text/plain": [
              "0    2.0\n",
              "dtype: float64"
            ]
          },
          "metadata": {
            "tags": []
          },
          "execution_count": 158
        }
      ]
    },
    {
      "cell_type": "code",
      "metadata": {
        "id": "577Lz1_-7JjA",
        "colab_type": "code",
        "colab": {
          "base_uri": "https://localhost:8080/",
          "height": 34
        },
        "outputId": "8a7cc6ee-5cce-4ab6-fc82-7beeb88a89d8"
      },
      "source": [
        "# Median family\n",
        "df.household_size.median()"
      ],
      "execution_count": 159,
      "outputs": [
        {
          "output_type": "execute_result",
          "data": {
            "text/plain": [
              "3.0"
            ]
          },
          "metadata": {
            "tags": []
          },
          "execution_count": 159
        }
      ]
    },
    {
      "cell_type": "code",
      "metadata": {
        "id": "UGJ7oyz77TXY",
        "colab_type": "code",
        "colab": {
          "base_uri": "https://localhost:8080/",
          "height": 34
        },
        "outputId": "5913d072-661b-4529-c3db-d00936c95985"
      },
      "source": [
        "# Range of the families\n",
        "df.household_size.max() - df.household_size.min()"
      ],
      "execution_count": 160,
      "outputs": [
        {
          "output_type": "execute_result",
          "data": {
            "text/plain": [
              "21.0"
            ]
          },
          "metadata": {
            "tags": []
          },
          "execution_count": 160
        }
      ]
    },
    {
      "cell_type": "code",
      "metadata": {
        "id": "xceD_L4O7kCM",
        "colab_type": "code",
        "colab": {
          "base_uri": "https://localhost:8080/",
          "height": 86
        },
        "outputId": "bec3adfb-ee30-4ebf-aefc-e10f4d178e52"
      },
      "source": [
        "# Quartiles for the household sizes\n",
        "df.household_size.quantile([0.25,0.5,0.75])"
      ],
      "execution_count": 161,
      "outputs": [
        {
          "output_type": "execute_result",
          "data": {
            "text/plain": [
              "0.25    2.0\n",
              "0.50    3.0\n",
              "0.75    5.0\n",
              "Name: household_size, dtype: float64"
            ]
          },
          "metadata": {
            "tags": []
          },
          "execution_count": 161
        }
      ]
    },
    {
      "cell_type": "code",
      "metadata": {
        "id": "Ymcpq3Xr9vyW",
        "colab_type": "code",
        "colab": {
          "base_uri": "https://localhost:8080/",
          "height": 286
        },
        "outputId": "9863d054-48cb-4b0f-ee54-b84646087385"
      },
      "source": [
        "# Visualizing the above measures\n",
        "sns.boxplot(df.household_size, showmeans=True, color='green', orient='v')\n",
        "plt.title('Graphical Summary of the household size', fontdict=title)\n",
        "plt.ylabel('Value', fontdict=others)"
      ],
      "execution_count": 162,
      "outputs": [
        {
          "output_type": "execute_result",
          "data": {
            "text/plain": [
              "Text(0, 0.5, 'Value')"
            ]
          },
          "metadata": {
            "tags": []
          },
          "execution_count": 162
        },
        {
          "output_type": "display_data",
          "data": {
            "image/png": "[encoded data removed]",
            "text/plain": [
              "<Figure size 432x288 with 1 Axes>"
            ]
          },
          "metadata": {
            "tags": [],
            "needs_background": "light"
          }
        }
      ]
    },
    {
      "cell_type": "code",
      "metadata": {
        "id": "KLW6uqNN8Dho",
        "colab_type": "code",
        "colab": {
          "base_uri": "https://localhost:8080/",
          "height": 34
        },
        "outputId": "4440d4cb-9d4c-45e2-8634-f6746b43f807"
      },
      "source": [
        "# Dispersion of the households\n",
        "# Variance\n",
        "df.household_size.var()"
      ],
      "execution_count": 163,
      "outputs": [
        {
          "output_type": "execute_result",
          "data": {
            "text/plain": [
              "5.564008883780614"
            ]
          },
          "metadata": {
            "tags": []
          },
          "execution_count": 163
        }
      ]
    },
    {
      "cell_type": "code",
      "metadata": {
        "id": "s9-aNJIq8iWP",
        "colab_type": "code",
        "colab": {
          "base_uri": "https://localhost:8080/",
          "height": 34
        },
        "outputId": "7b17b436-06f7-4c17-835e-54424e307007"
      },
      "source": [
        "# The standard deviation\n",
        "df.household_size.std()"
      ],
      "execution_count": 164,
      "outputs": [
        {
          "output_type": "execute_result",
          "data": {
            "text/plain": [
              "2.358815144045971"
            ]
          },
          "metadata": {
            "tags": []
          },
          "execution_count": 164
        }
      ]
    },
    {
      "cell_type": "code",
      "metadata": {
        "id": "5HfiDLRz8qM2",
        "colab_type": "code",
        "colab": {
          "base_uri": "https://localhost:8080/",
          "height": 34
        },
        "outputId": "88295c0c-19de-4796-b396-f24c2129d564"
      },
      "source": [
        "# The skewness of the data\n",
        "df.household_size.skew()"
      ],
      "execution_count": 165,
      "outputs": [
        {
          "output_type": "execute_result",
          "data": {
            "text/plain": [
              "0.9728862654919496"
            ]
          },
          "metadata": {
            "tags": []
          },
          "execution_count": 165
        }
      ]
    },
    {
      "cell_type": "code",
      "metadata": {
        "id": "1iyO6SK28w7k",
        "colab_type": "code",
        "colab": {
          "base_uri": "https://localhost:8080/",
          "height": 34
        },
        "outputId": "1c3f1ccd-0cc3-4880-b104-8c3ecdcb649b"
      },
      "source": [
        "# Kurtosis\n",
        "df.household_size.kurt()"
      ],
      "execution_count": 166,
      "outputs": [
        {
          "output_type": "execute_result",
          "data": {
            "text/plain": [
              "1.1276040083745413"
            ]
          },
          "metadata": {
            "tags": []
          },
          "execution_count": 166
        }
      ]
    },
    {
      "cell_type": "code",
      "metadata": {
        "id": "032Pj9ny86xk",
        "colab_type": "code",
        "colab": {
          "base_uri": "https://localhost:8080/",
          "height": 313
        },
        "outputId": "70585d00-26d2-4e55-9adc-6b39ed5a9703"
      },
      "source": [
        "# Visualizing the household data\n",
        "sns.distplot(df.household_size)\n",
        "plt.title('Distribution of the House hold sizes graph 1', fontdict=title)\n",
        "plt.xlabel('household size', fontdict=others)\n",
        "plt.ylabel('Proportion', fontdict=others)"
      ],
      "execution_count": 167,
      "outputs": [
        {
          "output_type": "execute_result",
          "data": {
            "text/plain": [
              "Text(0, 0.5, 'Proportion')"
            ]
          },
          "metadata": {
            "tags": []
          },
          "execution_count": 167
        },
        {
          "output_type": "display_data",
          "data": {
            "image/png": "[encoded data removed]",
            "text/plain": [
              "<Figure size 432x288 with 1 Axes>"
            ]
          },
          "metadata": {
            "tags": [],
            "needs_background": "light"
          }
        }
      ]
    },
    {
      "cell_type": "code",
      "metadata": {
        "id": "Fqcf1DFsJqQL",
        "colab_type": "code",
        "colab": {
          "base_uri": "https://localhost:8080/",
          "height": 326
        },
        "outputId": "3830c435-8453-4ff7-9a95-bf0746dd5124"
      },
      "source": [
        "df['household_size'].value_counts().sort_index().plot.bar()\n",
        "plt.title('Distribution of the House hold sizes graph  2', fontdict=title)\n",
        "plt.xlabel('household size', fontdict=others)\n",
        "plt.ylabel('Count', fontdict=others)"
      ],
      "execution_count": 168,
      "outputs": [
        {
          "output_type": "execute_result",
          "data": {
            "text/plain": [
              "Text(0, 0.5, 'Count')"
            ]
          },
          "metadata": {
            "tags": []
          },
          "execution_count": 168
        },
        {
          "output_type": "display_data",
          "data": {
            "image/png": "[encoded data removed]",
            "text/plain": [
              "<Figure size 432x288 with 1 Axes>"
            ]
          },
          "metadata": {
            "tags": [],
            "needs_background": "light"
          }
        }
      ]
    },
    {
      "cell_type": "markdown",
      "metadata": {
        "id": "OSDLFM1e58hi",
        "colab_type": "text"
      },
      "source": [
        "**Findings**\n",
        "\n",
        "1. The household size data is positively skewed\n",
        "2. There are outliers in the data\n",
        "3. The average household size is 3.6 \n",
        "4. The most common family size is 2"
      ]
    },
    {
      "cell_type": "markdown",
      "metadata": {
        "id": "NTbSqLJkSaVt",
        "colab_type": "text"
      },
      "source": [
        "*respondent_age column*"
      ]
    },
    {
      "cell_type": "code",
      "metadata": {
        "id": "hektonkySY7d",
        "colab_type": "code",
        "colab": {
          "base_uri": "https://localhost:8080/",
          "height": 34
        },
        "outputId": "b8424c73-c014-45fb-efd8-4d9857238021"
      },
      "source": [
        "# Average age\n",
        "df.respondent_age.mean()"
      ],
      "execution_count": 169,
      "outputs": [
        {
          "output_type": "execute_result",
          "data": {
            "text/plain": [
              "39.52631028350246"
            ]
          },
          "metadata": {
            "tags": []
          },
          "execution_count": 169
        }
      ]
    },
    {
      "cell_type": "code",
      "metadata": {
        "id": "VHs4khhPSpvW",
        "colab_type": "code",
        "colab": {
          "base_uri": "https://localhost:8080/",
          "height": 52
        },
        "outputId": "60a66045-0921-4597-8457-fb50271e9562"
      },
      "source": [
        "# Most common age of the surveyed\n",
        "df.respondent_age.mode()"
      ],
      "execution_count": 170,
      "outputs": [
        {
          "output_type": "execute_result",
          "data": {
            "text/plain": [
              "0    30.0\n",
              "dtype: float64"
            ]
          },
          "metadata": {
            "tags": []
          },
          "execution_count": 170
        }
      ]
    },
    {
      "cell_type": "code",
      "metadata": {
        "id": "ITyYSm1HSzez",
        "colab_type": "code",
        "colab": {
          "base_uri": "https://localhost:8080/",
          "height": 34
        },
        "outputId": "670dd8bc-40e4-4412-9ae9-8c7ed09438fe"
      },
      "source": [
        "# Median age\n",
        "df.respondent_age.median()"
      ],
      "execution_count": 171,
      "outputs": [
        {
          "output_type": "execute_result",
          "data": {
            "text/plain": [
              "36.0"
            ]
          },
          "metadata": {
            "tags": []
          },
          "execution_count": 171
        }
      ]
    },
    {
      "cell_type": "code",
      "metadata": {
        "id": "nGHGuqj9S6sS",
        "colab_type": "code",
        "colab": {
          "base_uri": "https://localhost:8080/",
          "height": 34
        },
        "outputId": "e95db82d-6dbd-4a69-932f-08978230e6c3"
      },
      "source": [
        "# Range of the ages\n",
        "df.respondent_age.max() - df.respondent_age.min()"
      ],
      "execution_count": 172,
      "outputs": [
        {
          "output_type": "execute_result",
          "data": {
            "text/plain": [
              "84.0"
            ]
          },
          "metadata": {
            "tags": []
          },
          "execution_count": 172
        }
      ]
    },
    {
      "cell_type": "code",
      "metadata": {
        "id": "6c7S-38mTByV",
        "colab_type": "code",
        "colab": {
          "base_uri": "https://localhost:8080/",
          "height": 86
        },
        "outputId": "5e0ff5f7-ae58-41a3-bc31-0aae85f54e0d"
      },
      "source": [
        "# Quartiles distribution for the ages\n",
        "df.respondent_age.quantile([0.25,0.5,0.75])"
      ],
      "execution_count": 173,
      "outputs": [
        {
          "output_type": "execute_result",
          "data": {
            "text/plain": [
              "0.25    26.0\n",
              "0.50    36.0\n",
              "0.75    50.0\n",
              "Name: respondent_age, dtype: float64"
            ]
          },
          "metadata": {
            "tags": []
          },
          "execution_count": 173
        }
      ]
    },
    {
      "cell_type": "code",
      "metadata": {
        "id": "XMuMj657TQL2",
        "colab_type": "code",
        "colab": {
          "base_uri": "https://localhost:8080/",
          "height": 286
        },
        "outputId": "415bf908-4a0c-4bd3-fd9d-19b6f97fe560"
      },
      "source": [
        "# Visualizing the above measures\n",
        "# This will also show presence of outliers\n",
        "sns.boxplot(df.respondent_age, showmeans=True, color='green', orient='v')\n",
        "plt.title('Graphical Summary of the ages surveyed', fontdict=title)\n",
        "plt.ylabel('age', fontdict=others)"
      ],
      "execution_count": 174,
      "outputs": [
        {
          "output_type": "execute_result",
          "data": {
            "text/plain": [
              "Text(0, 0.5, 'age')"
            ]
          },
          "metadata": {
            "tags": []
          },
          "execution_count": 174
        },
        {
          "output_type": "display_data",
          "data": {
            "image/png": "[encoded data removed]",
            "text/plain": [
              "<Figure size 432x288 with 1 Axes>"
            ]
          },
          "metadata": {
            "tags": [],
            "needs_background": "light"
          }
        }
      ]
    },
    {
      "cell_type": "code",
      "metadata": {
        "id": "LuRhj6k5Tm_A",
        "colab_type": "code",
        "colab": {
          "base_uri": "https://localhost:8080/",
          "height": 34
        },
        "outputId": "142836ab-0f75-469a-a197-e552ea9606ac"
      },
      "source": [
        "# Dispersion of the ages\n",
        "# Variance\n",
        "df.respondent_age.var()"
      ],
      "execution_count": 175,
      "outputs": [
        {
          "output_type": "execute_result",
          "data": {
            "text/plain": [
              "291.24445603011225"
            ]
          },
          "metadata": {
            "tags": []
          },
          "execution_count": 175
        }
      ]
    },
    {
      "cell_type": "code",
      "metadata": {
        "id": "-FaN5xSxTrgG",
        "colab_type": "code",
        "colab": {
          "base_uri": "https://localhost:8080/",
          "height": 34
        },
        "outputId": "a65ecd27-395b-4238-e9ef-ce8ac95ce28d"
      },
      "source": [
        "# The standard deviation\n",
        "df.respondent_age.std()"
      ],
      "execution_count": 176,
      "outputs": [
        {
          "output_type": "execute_result",
          "data": {
            "text/plain": [
              "17.06588573822385"
            ]
          },
          "metadata": {
            "tags": []
          },
          "execution_count": 176
        }
      ]
    },
    {
      "cell_type": "code",
      "metadata": {
        "id": "m4DVAscgTyFs",
        "colab_type": "code",
        "colab": {
          "base_uri": "https://localhost:8080/",
          "height": 34
        },
        "outputId": "7ba1c5a6-8a77-4e49-c55a-42234a41b80f"
      },
      "source": [
        "# The skewness of the data\n",
        "df.respondent_age.skew()"
      ],
      "execution_count": 177,
      "outputs": [
        {
          "output_type": "execute_result",
          "data": {
            "text/plain": [
              "0.7693098219418919"
            ]
          },
          "metadata": {
            "tags": []
          },
          "execution_count": 177
        }
      ]
    },
    {
      "cell_type": "code",
      "metadata": {
        "id": "tgdjCRGWT8Vc",
        "colab_type": "code",
        "colab": {
          "base_uri": "https://localhost:8080/",
          "height": 34
        },
        "outputId": "ad2352e0-e6ee-495a-a0bf-b887f7751a38"
      },
      "source": [
        "# Kurtosis\n",
        "df.respondent_age.kurt()"
      ],
      "execution_count": 178,
      "outputs": [
        {
          "output_type": "execute_result",
          "data": {
            "text/plain": [
              "-0.09230025474440495"
            ]
          },
          "metadata": {
            "tags": []
          },
          "execution_count": 178
        }
      ]
    },
    {
      "cell_type": "code",
      "metadata": {
        "id": "vnGTzSSlUGyH",
        "colab_type": "code",
        "colab": {
          "base_uri": "https://localhost:8080/",
          "height": 313
        },
        "outputId": "5535ef9f-5704-4435-e4b9-a69a9c177cb6"
      },
      "source": [
        "# Visualizing the distribution of the ages\n",
        "sns.distplot(df.respondent_age)\n",
        "plt.title('Distribution of the ages of the surveyed', fontdict=title)\n",
        "plt.xlabel('age', fontdict=others)\n",
        "plt.ylabel('Proportion', fontdict=others)"
      ],
      "execution_count": 179,
      "outputs": [
        {
          "output_type": "execute_result",
          "data": {
            "text/plain": [
              "Text(0, 0.5, 'Proportion')"
            ]
          },
          "metadata": {
            "tags": []
          },
          "execution_count": 179
        },
        {
          "output_type": "display_data",
          "data": {
            "image/png": "[encoded data removed]",
            "text/plain": [
              "<Figure size 432x288 with 1 Axes>"
            ]
          },
          "metadata": {
            "tags": [],
            "needs_background": "light"
          }
        }
      ]
    },
    {
      "cell_type": "code",
      "metadata": {
        "id": "wg0NRUmnUbMn",
        "colab_type": "code",
        "colab": {
          "base_uri": "https://localhost:8080/",
          "height": 332
        },
        "outputId": "28401aee-a276-46f4-8afb-029b66dc789a"
      },
      "source": [
        "df['respondent_age'].value_counts().sort_index().plot.bar()\n",
        "plt.title('Distribution of the ages of the surveyed 2', fontdict=title)\n",
        "plt.xlabel('age', fontdict=others)\n",
        "plt.ylabel('Count', fontdict=others)"
      ],
      "execution_count": 180,
      "outputs": [
        {
          "output_type": "execute_result",
          "data": {
            "text/plain": [
              "Text(0, 0.5, 'Count')"
            ]
          },
          "metadata": {
            "tags": []
          },
          "execution_count": 180
        },
        {
          "output_type": "display_data",
          "data": {
            "image/png": "[encoded data removed]",
            "text/plain": [
              "<Figure size 432x288 with 1 Axes>"
            ]
          },
          "metadata": {
            "tags": [],
            "needs_background": "light"
          }
        }
      ]
    },
    {
      "cell_type": "markdown",
      "metadata": {
        "id": "Rd4ZhGQu4Z6z",
        "colab_type": "text"
      },
      "source": [
        "**Findings:**\n",
        "\n",
        "1. The average age of the respondents was 38\n",
        "2. Most of the respondents were aged 30\n",
        "3. There is a great variability in the data with the youngest aged 16 and the oldest being aged 100\n",
        "4. The age data is positively skewed\n",
        "5. The median age is 35 \n",
        "6. There are outliers in the data\n",
        "\n",
        "**Recommendation:**\n",
        "\n",
        "With the data being positively skewed the median would be a better measure of central tendency than the mean"
      ]
    },
    {
      "cell_type": "markdown",
      "metadata": {
        "id": "5PvXXPvzU0R2",
        "colab_type": "text"
      },
      "source": [
        "*gender_of_respondent column*"
      ]
    },
    {
      "cell_type": "code",
      "metadata": {
        "id": "hGeoHzFTU2O4",
        "colab_type": "code",
        "colab": {
          "base_uri": "https://localhost:8080/",
          "height": 69
        },
        "outputId": "9d8f3dee-22bf-4394-ff1b-156fa758bb42"
      },
      "source": [
        "df.gender_of_respondent.value_counts()"
      ],
      "execution_count": 181,
      "outputs": [
        {
          "output_type": "execute_result",
          "data": {
            "text/plain": [
              "Female    11381\n",
              "Male       7737\n",
              "Name: gender_of_respondent, dtype: int64"
            ]
          },
          "metadata": {
            "tags": []
          },
          "execution_count": 181
        }
      ]
    },
    {
      "cell_type": "code",
      "metadata": {
        "id": "By252lN8U7oK",
        "colab_type": "code",
        "colab": {
          "base_uri": "https://localhost:8080/",
          "height": 339
        },
        "outputId": "5a68a0fe-f5e6-438a-d814-f39603e9fc9d"
      },
      "source": [
        "# Graphing gender of those who participated in the survey\n",
        "df.gender_of_respondent.value_counts().plot.bar()\n",
        "plt.title('Dstribution of Gender surveyed', fontdict=title)\n",
        "plt.xlabel('GENDER', fontdict=others)\n",
        "plt.ylabel('COUNT', fontdict=others)"
      ],
      "execution_count": 182,
      "outputs": [
        {
          "output_type": "execute_result",
          "data": {
            "text/plain": [
              "Text(0, 0.5, 'COUNT')"
            ]
          },
          "metadata": {
            "tags": []
          },
          "execution_count": 182
        },
        {
          "output_type": "display_data",
          "data": {
            "image/png": "[encoded data removed]",
            "text/plain": [
              "<Figure size 432x288 with 1 Axes>"
            ]
          },
          "metadata": {
            "tags": [],
            "needs_background": "light"
          }
        }
      ]
    },
    {
      "cell_type": "markdown",
      "metadata": {
        "id": "G9XoCBo74L7v",
        "colab_type": "text"
      },
      "source": [
        "Findings\n",
        "\n",
        "Most of the repondents were female"
      ]
    },
    {
      "cell_type": "markdown",
      "metadata": {
        "id": "EkwLL7bVVKek",
        "colab_type": "text"
      },
      "source": [
        "*the_relationship_with_the_head column*"
      ]
    },
    {
      "cell_type": "code",
      "metadata": {
        "id": "1lfoWa6DVORe",
        "colab_type": "code",
        "colab": {
          "base_uri": "https://localhost:8080/",
          "height": 139
        },
        "outputId": "16909be5-9e23-467d-9049-476134dcd3d5"
      },
      "source": [
        "df.the_relathip_with_head.value_counts()"
      ],
      "execution_count": 183,
      "outputs": [
        {
          "output_type": "execute_result",
          "data": {
            "text/plain": [
              "Head of Household      10634\n",
              "Spouse                  4739\n",
              "Child                   1910\n",
              "Parent                  1022\n",
              "Other relative           656\n",
              "Other non-relatives      187\n",
              "Name: the_relathip_with_head, dtype: int64"
            ]
          },
          "metadata": {
            "tags": []
          },
          "execution_count": 183
        }
      ]
    },
    {
      "cell_type": "code",
      "metadata": {
        "id": "3R6CkpnwVXU9",
        "colab_type": "code",
        "colab": {
          "base_uri": "https://localhost:8080/",
          "height": 400
        },
        "outputId": "ff6bcb47-f0ac-4983-d2de-a49a2df44335"
      },
      "source": [
        "# Visualizing who was surveyed\n",
        "df.the_relathip_with_head.value_counts().plot.bar()\n",
        "plt.title('Who was surveyed?', fontdict=title)\n",
        "plt.xlabel('WHO?', fontdict=others)\n",
        "plt.ylabel('COUNT', fontdict=others)"
      ],
      "execution_count": 184,
      "outputs": [
        {
          "output_type": "execute_result",
          "data": {
            "text/plain": [
              "Text(0, 0.5, 'COUNT')"
            ]
          },
          "metadata": {
            "tags": []
          },
          "execution_count": 184
        },
        {
          "output_type": "display_data",
          "data": {
            "image/png": "[encoded data removed]",
            "text/plain": [
              "<Figure size 432x288 with 1 Axes>"
            ]
          },
          "metadata": {
            "tags": [],
            "needs_background": "light"
          }
        }
      ]
    },
    {
      "cell_type": "markdown",
      "metadata": {
        "id": "RsB48_NX3_fv",
        "colab_type": "text"
      },
      "source": [
        "Findings\n",
        "\n",
        "Most of those who participated in the survey were heads of household"
      ]
    },
    {
      "cell_type": "markdown",
      "metadata": {
        "id": "dDL8CLffVpNM",
        "colab_type": "text"
      },
      "source": [
        "*marital_status column*"
      ]
    },
    {
      "cell_type": "code",
      "metadata": {
        "id": "Yp1G4crGVq4k",
        "colab_type": "code",
        "colab": {
          "base_uri": "https://localhost:8080/",
          "height": 121
        },
        "outputId": "c7bc8926-0f31-4616-f55c-a552fcb9eba4"
      },
      "source": [
        "df.marital_status.value_counts()"
      ],
      "execution_count": 185,
      "outputs": [
        {
          "output_type": "execute_result",
          "data": {
            "text/plain": [
              "Married/Living together    8683\n",
              "Single/Never Married       6071\n",
              "Widowed                    2405\n",
              "Divorced/Seperated         1954\n",
              "Dont know                     8\n",
              "Name: marital_status, dtype: int64"
            ]
          },
          "metadata": {
            "tags": []
          },
          "execution_count": 185
        }
      ]
    },
    {
      "cell_type": "code",
      "metadata": {
        "id": "m8_afaZAWBFb",
        "colab_type": "code",
        "colab": {
          "base_uri": "https://localhost:8080/",
          "height": 421
        },
        "outputId": "873d58ee-881a-40bc-b1c6-913305872379"
      },
      "source": [
        "# Graphing marital status of those who participated in the survey\n",
        "df.marital_status.value_counts().plot.bar()\n",
        "plt.title('MARRIED?', fontdict=title)\n",
        "plt.xlabel('STATUS', fontdict=others)\n",
        "plt.ylabel('COUNT', fontdict=others)"
      ],
      "execution_count": 186,
      "outputs": [
        {
          "output_type": "execute_result",
          "data": {
            "text/plain": [
              "Text(0, 0.5, 'COUNT')"
            ]
          },
          "metadata": {
            "tags": []
          },
          "execution_count": 186
        },
        {
          "output_type": "display_data",
          "data": {
            "image/png": "[encoded data removed]",
            "text/plain": [
              "<Figure size 432x288 with 1 Axes>"
            ]
          },
          "metadata": {
            "tags": [],
            "needs_background": "light"
          }
        }
      ]
    },
    {
      "cell_type": "markdown",
      "metadata": {
        "id": "b97NBOPL3vsF",
        "colab_type": "text"
      },
      "source": [
        "Finding:\n",
        "\n",
        "Most of those who took part in the survey are married"
      ]
    },
    {
      "cell_type": "markdown",
      "metadata": {
        "id": "UcIbPYsxXwTd",
        "colab_type": "text"
      },
      "source": [
        "*level_of_education column*"
      ]
    },
    {
      "cell_type": "code",
      "metadata": {
        "id": "W3yKpemlX0bO",
        "colab_type": "code",
        "colab": {
          "base_uri": "https://localhost:8080/",
          "height": 156
        },
        "outputId": "cd61907a-5918-479f-93e4-320fbd20af2a"
      },
      "source": [
        "df.level_of_educuation.value_counts()"
      ],
      "execution_count": 187,
      "outputs": [
        {
          "output_type": "execute_result",
          "data": {
            "text/plain": [
              "Primary education                  9493\n",
              "No formal education                3907\n",
              "Secondary education                3825\n",
              "Tertiary education                 1085\n",
              "Vocational/Specialised training     779\n",
              "6                                    26\n",
              "Other/Dont know/RTA                   8\n",
              "Name: level_of_educuation, dtype: int64"
            ]
          },
          "metadata": {
            "tags": []
          },
          "execution_count": 187
        }
      ]
    },
    {
      "cell_type": "markdown",
      "metadata": {
        "id": "27wj-GHVX8We",
        "colab_type": "text"
      },
      "source": [
        "**Assumption**\n",
        "\n",
        "Summary of the above information shows that 27 people have 6 as the level of education. Most likely these went to school till primary six and so these will be replaced as Primary education"
      ]
    },
    {
      "cell_type": "code",
      "metadata": {
        "id": "w00htYHkY0O5",
        "colab_type": "code",
        "colab": {}
      },
      "source": [
        "# Replacing of the 6\n",
        "df['level_of_educuation'] = df['level_of_educuation'].replace(['6'],['Primary education'])"
      ],
      "execution_count": 188,
      "outputs": []
    },
    {
      "cell_type": "code",
      "metadata": {
        "id": "D39TWbJ9aBxi",
        "colab_type": "code",
        "colab": {
          "base_uri": "https://localhost:8080/",
          "height": 139
        },
        "outputId": "9f9ee4e2-a10a-414c-84f8-0efd3cb5bd19"
      },
      "source": [
        "# New summary\n",
        "df.level_of_educuation.value_counts()"
      ],
      "execution_count": 189,
      "outputs": [
        {
          "output_type": "execute_result",
          "data": {
            "text/plain": [
              "Primary education                  9519\n",
              "No formal education                3907\n",
              "Secondary education                3825\n",
              "Tertiary education                 1085\n",
              "Vocational/Specialised training     779\n",
              "Other/Dont know/RTA                   8\n",
              "Name: level_of_educuation, dtype: int64"
            ]
          },
          "metadata": {
            "tags": []
          },
          "execution_count": 189
        }
      ]
    },
    {
      "cell_type": "code",
      "metadata": {
        "id": "00YnXIpyaZqW",
        "colab_type": "code",
        "colab": {
          "base_uri": "https://localhost:8080/",
          "height": 457
        },
        "outputId": "53ff613c-cd7c-4941-8671-c66f51f01f48"
      },
      "source": [
        "# Visualizing the groupings\n",
        "# Graphing level of education of those who participated in the survey\n",
        "df.level_of_educuation.value_counts().plot.bar()\n",
        "plt.title('Level of Education', fontdict=title)\n",
        "plt.xlabel('Level', fontdict=others)\n",
        "plt.ylabel('Count', fontdict=others)"
      ],
      "execution_count": 190,
      "outputs": [
        {
          "output_type": "execute_result",
          "data": {
            "text/plain": [
              "Text(0, 0.5, 'Count')"
            ]
          },
          "metadata": {
            "tags": []
          },
          "execution_count": 190
        },
        {
          "output_type": "display_data",
          "data": {
            "image/png": "[encoded data removed]",
            "text/plain": [
              "<Figure size 432x288 with 1 Axes>"
            ]
          },
          "metadata": {
            "tags": [],
            "needs_background": "light"
          }
        }
      ]
    },
    {
      "cell_type": "markdown",
      "metadata": {
        "id": "Mo8lMLXA25MN",
        "colab_type": "text"
      },
      "source": [
        "The following are realised:\n",
        "\n",
        "1. Most of the respondents possess primary education\n",
        "\n",
        "2. Almost half of the population never went past primary education with a third of this population having no formal education."
      ]
    },
    {
      "cell_type": "markdown",
      "metadata": {
        "id": "5ff9BH8PcsRx",
        "colab_type": "text"
      },
      "source": [
        "*type_of_job column*"
      ]
    },
    {
      "cell_type": "code",
      "metadata": {
        "id": "mZPhq4oCdbLV",
        "colab_type": "code",
        "colab": {
          "base_uri": "https://localhost:8080/",
          "height": 208
        },
        "outputId": "c8e4ca83-56b9-4305-ca65-918517237851"
      },
      "source": [
        "df.type_of_job.value_counts()"
      ],
      "execution_count": 191,
      "outputs": [
        {
          "output_type": "execute_result",
          "data": {
            "text/plain": [
              "Self employed                   4885\n",
              "Informally employed             4538\n",
              "Farming and Fishing             4099\n",
              "Remittance Dependent            2228\n",
              "Other Income                    1050\n",
              "Formally employed Private       1003\n",
              "No Income                        574\n",
              "Formally employed Government     378\n",
              "Government Dependent             241\n",
              "Dont Know/Refuse to answer       126\n",
              "Name: type_of_job, dtype: int64"
            ]
          },
          "metadata": {
            "tags": []
          },
          "execution_count": 191
        }
      ]
    },
    {
      "cell_type": "code",
      "metadata": {
        "id": "ctnzT45bd0_V",
        "colab_type": "code",
        "colab": {
          "base_uri": "https://localhost:8080/",
          "height": 266
        },
        "outputId": "4eb979ac-eb8f-4aa8-ed8f-b01131f0b406"
      },
      "source": [
        "# Visualizing the counts using a pie chart\n",
        "x = list(df.type_of_job.value_counts())\n",
        "labels = ['SELF','INFORMAL','FARMING/FISHING','REMITTANCE DEP.', 'OTHER','FORMAL PRIVATE',\n",
        "          'NO INCOME','FORMAL GOV','GOV. DEP', 'UNDISCLOSED']\n",
        "colors = ['gold', 'yellowgreen', 'lightcoral', 'lightskyblue']\n",
        "explode = (0.1, 0.1, 0.1, 0.1, 0.1, 0.1, 0.5, 0.5, 0.5, 0.5)\n",
        "plt.pie(x, explode=explode, labels=labels, colors=colors,\n",
        "autopct='%1.1f%%', shadow=True, startangle=140)\n",
        "\n",
        "plt.axis('equal')\n",
        "plt.title('Employment sectors')\n",
        "plt.show()"
      ],
      "execution_count": 192,
      "outputs": [
        {
          "output_type": "display_data",
          "data": {
            "image/png": "[encoded data removed]",
            "text/plain": [
              "<Figure size 432x288 with 1 Axes>"
            ]
          },
          "metadata": {
            "tags": []
          }
        }
      ]
    },
    {
      "cell_type": "markdown",
      "metadata": {
        "id": "JXlG1Rt71H9f",
        "colab_type": "text"
      },
      "source": [
        "**From above the following is realised**\n",
        "\n",
        "1. Most of the respondents are in one way or anothe from the informal sector encoded as either \"informal\", \"farming/fishing\" or \"self\" (self employed). There is a high likelihood that most of these are the unbanked.\n",
        "\n",
        "2. Formal sector employs very few of the respondents"
      ]
    },
    {
      "cell_type": "markdown",
      "metadata": {
        "id": "jCcCIh3YfkzY",
        "colab_type": "text"
      },
      "source": [
        "**BIVARIATE ANALYSIS**\n",
        "\n",
        "The data available can be categorised as follows:\n",
        "\n",
        "1. **Categorical** - country, year, has_a_bank_account, type_of_location, cell_phone_access, gender_of_respondent, the_relationship_with_head, marital_status, level_of_education, type_of_job\n",
        "\n",
        "2. **Numerical** - household_size, repondent_age"
      ]
    },
    {
      "cell_type": "markdown",
      "metadata": {
        "id": "m5KjgSW1sCSg",
        "colab_type": "text"
      },
      "source": [
        "Condicting bivariate analysis on the numerical data"
      ]
    },
    {
      "cell_type": "code",
      "metadata": {
        "id": "sdOyvHcmljXN",
        "colab_type": "code",
        "colab": {
          "base_uri": "https://localhost:8080/",
          "height": 567
        },
        "outputId": "1400ecdd-018e-4f6f-ccfb-e02e42481321"
      },
      "source": [
        "# Ploting the bivariate summaries and recording our observations\n",
        "sns.pairplot(df)\n",
        "plt.show()"
      ],
      "execution_count": 193,
      "outputs": [
        {
          "output_type": "display_data",
          "data": {
            "image/png": "[encoded data removed]",
            "text/plain": [
              "<Figure size 540x540 with 12 Axes>"
            ]
          },
          "metadata": {
            "tags": [],
            "needs_background": "light"
          }
        }
      ]
    },
    {
      "cell_type": "code",
      "metadata": {
        "id": "6wsMK6thsrSd",
        "colab_type": "code",
        "colab": {
          "base_uri": "https://localhost:8080/",
          "height": 270
        },
        "outputId": "8f643181-4c8f-4f92-e153-301ede67ec98"
      },
      "source": [
        "x = df[['year','household_size','respondent_age']]\n",
        "sns.heatmap(x.corr(),annot=True)\n",
        "plt.show()"
      ],
      "execution_count": 194,
      "outputs": [
        {
          "output_type": "display_data",
          "data": {
            "image/png": "[encoded data removed]",
            "text/plain": [
              "<Figure size 432x288 with 2 Axes>"
            ]
          },
          "metadata": {
            "tags": [],
            "needs_background": "light"
          }
        }
      ]
    },
    {
      "cell_type": "markdown",
      "metadata": {
        "id": "HLTXPKsVlKsX",
        "colab_type": "text"
      },
      "source": [
        "There is not any linear data in the plotted data above\n",
        "\n",
        "The correlation coeffiecient above indicates that there is weak, very weak negative correlation between the variables.\n",
        "\n",
        "**Notwithstanding, that is not the focuss of this analysis**"
      ]
    },
    {
      "cell_type": "markdown",
      "metadata": {
        "id": "TZDJ-OceV-bM",
        "colab_type": "text"
      },
      "source": [
        "**Chi-square test**"
      ]
    },
    {
      "cell_type": "code",
      "metadata": {
        "id": "uS_Lecd8VdjS",
        "colab_type": "code",
        "colab": {
          "base_uri": "https://localhost:8080/",
          "height": 143
        },
        "outputId": "efb6d7d3-2d06-4e7a-e7b9-cdb15812b985"
      },
      "source": [
        "# Computing the observed values cross table\n",
        "contingency_table = pd.crosstab(df.has_a_bank_account, df.type_of_location)\n",
        "contingency_table"
      ],
      "execution_count": 195,
      "outputs": [
        {
          "output_type": "execute_result",
          "data": {
            "text/html": [
              "<div>\n",
              "<style scoped>\n",
              "    .dataframe tbody tr th:only-of-type {\n",
              "        vertical-align: middle;\n",
              "    }\n",
              "\n",
              "    .dataframe tbody tr th {\n",
              "        vertical-align: top;\n",
              "    }\n",
              "\n",
              "    .dataframe thead th {\n",
              "        text-align: right;\n",
              "    }\n",
              "</style>\n",
              "<table border=\"1\" class=\"dataframe\">\n",
              "  <thead>\n",
              "    <tr style=\"text-align: right;\">\n",
              "      <th>type_of_location</th>\n",
              "      <th>Rural</th>\n",
              "      <th>Urban</th>\n",
              "    </tr>\n",
              "    <tr>\n",
              "      <th>has_a_bank_account</th>\n",
              "      <th></th>\n",
              "      <th></th>\n",
              "    </tr>\n",
              "  </thead>\n",
              "  <tbody>\n",
              "    <tr>\n",
              "      <th>No</th>\n",
              "      <td>10145</td>\n",
              "      <td>5819</td>\n",
              "    </tr>\n",
              "    <tr>\n",
              "      <th>Yes</th>\n",
              "      <td>1588</td>\n",
              "      <td>1556</td>\n",
              "    </tr>\n",
              "  </tbody>\n",
              "</table>\n",
              "</div>"
            ],
            "text/plain": [
              "type_of_location    Rural  Urban\n",
              "has_a_bank_account              \n",
              "No                  10145   5819\n",
              "Yes                  1588   1556"
            ]
          },
          "metadata": {
            "tags": []
          },
          "execution_count": 195
        }
      ]
    },
    {
      "cell_type": "code",
      "metadata": {
        "id": "15RQzSmI3s4M",
        "colab_type": "code",
        "colab": {
          "base_uri": "https://localhost:8080/",
          "height": 52
        },
        "outputId": "34c6e247-60fd-4d52-c4db-52ee70f15e89"
      },
      "source": [
        "# Extracting the values array\n",
        "Observed_Values = contingency_table.values\n",
        "Observed_Values"
      ],
      "execution_count": 196,
      "outputs": [
        {
          "output_type": "execute_result",
          "data": {
            "text/plain": [
              "array([[10145,  5819],\n",
              "       [ 1588,  1556]])"
            ]
          },
          "metadata": {
            "tags": []
          },
          "execution_count": 196
        }
      ]
    },
    {
      "cell_type": "code",
      "metadata": {
        "id": "9V64PxOuWDJk",
        "colab_type": "code",
        "colab": {
          "base_uri": "https://localhost:8080/",
          "height": 52
        },
        "outputId": "991ccdb7-17b5-49d2-b745-8ba60fbed4fa"
      },
      "source": [
        "# Computing expected values\n",
        "b = scipy.stats.chi2_contingency(contingency_table)\n",
        "Expected_Values = b[3]\n",
        "Expected_Values"
      ],
      "execution_count": 197,
      "outputs": [
        {
          "output_type": "execute_result",
          "data": {
            "text/plain": [
              "array([[9802.47079757, 6161.52920243],\n",
              "       [1930.52920243, 1213.47079757]])"
            ]
          },
          "metadata": {
            "tags": []
          },
          "execution_count": 197
        }
      ]
    },
    {
      "cell_type": "code",
      "metadata": {
        "id": "W6zScFY-XDw3",
        "colab_type": "code",
        "colab": {
          "base_uri": "https://localhost:8080/",
          "height": 34
        },
        "outputId": "f0e79a8c-80ce-4668-be9c-7ba24d85aae2"
      },
      "source": [
        "# Degrees of Freedom\n",
        "no_of_rows = len(contingency_table.iloc[0:2,0])\n",
        "no_of_columns = len(contingency_table.iloc[0,0:2])\n",
        "deg_free = (no_of_rows-1)*(no_of_columns-1)\n",
        "deg_free"
      ],
      "execution_count": 198,
      "outputs": [
        {
          "output_type": "execute_result",
          "data": {
            "text/plain": [
              "1"
            ]
          },
          "metadata": {
            "tags": []
          },
          "execution_count": 198
        }
      ]
    },
    {
      "cell_type": "code",
      "metadata": {
        "id": "QXLeb3wtXfTs",
        "colab_type": "code",
        "colab": {}
      },
      "source": [
        "# Setting the significance level at 5%\n",
        "alpha=0.05"
      ],
      "execution_count": 72,
      "outputs": []
    },
    {
      "cell_type": "code",
      "metadata": {
        "id": "oyeiah-gXpA1",
        "colab_type": "code",
        "colab": {
          "base_uri": "https://localhost:8080/",
          "height": 34
        },
        "outputId": "5630ae3f-ccbd-40bb-eb9f-9d0d82848227"
      },
      "source": [
        "# chi-square statistic - χ2\n",
        "from scipy.stats import chi2\n",
        "chi_square = sum([(o-e)**2./e for o,e in zip(Observed_Values,Expected_Values)])\n",
        "chi_square_statistic = chi_square[0] + chi_square[1]\n",
        "chi_square_statistic"
      ],
      "execution_count": 199,
      "outputs": [
        {
          "output_type": "execute_result",
          "data": {
            "text/plain": [
              "188.47144169089034"
            ]
          },
          "metadata": {
            "tags": []
          },
          "execution_count": 199
        }
      ]
    },
    {
      "cell_type": "code",
      "metadata": {
        "id": "ToZrWpTFYFKF",
        "colab_type": "code",
        "colab": {
          "base_uri": "https://localhost:8080/",
          "height": 34
        },
        "outputId": "21314e84-2029-4292-b21c-e42e568d7a4a"
      },
      "source": [
        "# Critical_value\n",
        "critical_value = chi2.ppf(q=1-alpha,df=deg_free)\n",
        "print('critical_value:',critical_value)"
      ],
      "execution_count": 200,
      "outputs": [
        {
          "output_type": "stream",
          "text": [
            "critical_value: 3.841458820694124\n"
          ],
          "name": "stdout"
        }
      ]
    },
    {
      "cell_type": "code",
      "metadata": {
        "id": "coSROXFDYps_",
        "colab_type": "code",
        "colab": {
          "base_uri": "https://localhost:8080/",
          "height": 34
        },
        "outputId": "d01d64ff-dcb2-493b-9db1-e51cf10fa0fc"
      },
      "source": [
        "# p-value\n",
        "p_value = 1 - chi2.cdf(x = chi_square_statistic,df = deg_free)\n",
        "p_value"
      ],
      "execution_count": 201,
      "outputs": [
        {
          "output_type": "execute_result",
          "data": {
            "text/plain": [
              "0.0"
            ]
          },
          "metadata": {
            "tags": []
          },
          "execution_count": 201
        }
      ]
    },
    {
      "cell_type": "code",
      "metadata": {
        "id": "HEBEtXXNZOGs",
        "colab_type": "code",
        "colab": {
          "base_uri": "https://localhost:8080/",
          "height": 104
        },
        "outputId": "f0f54dbf-0421-4a10-e196-0ca05dc79d68"
      },
      "source": [
        "# Computing the observed values cross table\n",
        "contingency_table = pd.crosstab(df.has_a_bank_account, df.level_of_educuation)\n",
        "Observed_Values = contingency_table.values\n",
        "\n",
        "# Computing expected values\n",
        "b = scipy.stats.chi2_contingency(contingency_table)\n",
        "Expected_Values = b[3]\n",
        "\n",
        "# Degrees of Freedom\n",
        "no_of_rows = len(contingency_table.iloc[0:2,0])\n",
        "no_of_columns = len(contingency_table.iloc[0,0:2])\n",
        "deg_free = (no_of_rows-1)*(no_of_columns-1)\n",
        "\n",
        "# Setting the significance level at 5%\n",
        "alpha=0.05\n",
        "\n",
        "# chi-square statistic - χ2\n",
        "from scipy.stats import chi2\n",
        "chi_square = sum([(o-e)**2./e for o,e in zip(Observed_Values,Expected_Values)])\n",
        "chi_square_statistic = chi_square[0] + chi_square[1]\n",
        "\n",
        "# Critical_value\n",
        "critical_value = chi2.ppf(q=1-alpha,df=deg_free)\n",
        "\n",
        "# p-value\n",
        "p_value = 1- scipy.stats.chi2.cdf(x = chi_square_statistic,df = deg_free)\n",
        "\n",
        "# p_value = 1 - stats.chi2.cdf(x=chi_squared_stat,  # Find the p-value\n",
        "#                              df=4)\n",
        "\n",
        "print('Significance level: ',alpha)\n",
        "print('Degree of Freedom: ',deg_free)\n",
        "print('chi-square statistic:',chi_square_statistic)\n",
        "print('critical_value:',critical_value)\n",
        "print('p-value:',p_value)"
      ],
      "execution_count": 202,
      "outputs": [
        {
          "output_type": "stream",
          "text": [
            "Significance level:  0.05\n",
            "Degree of Freedom:  1\n",
            "chi-square statistic: 426.3912258858543\n",
            "critical_value: 3.841458820694124\n",
            "p-value: 0.0\n"
          ],
          "name": "stdout"
        }
      ]
    },
    {
      "cell_type": "markdown",
      "metadata": {
        "id": "hHbJBUWRtMgw",
        "colab_type": "text"
      },
      "source": [
        "**Using crosstabs to view bivariate combinations frequencies and visualizing the same**"
      ]
    },
    {
      "cell_type": "code",
      "metadata": {
        "id": "S9ivsYBctLZy",
        "colab_type": "code",
        "colab": {
          "base_uri": "https://localhost:8080/",
          "height": 175
        },
        "outputId": "f7990692-b330-4af4-9c3a-b1bad85ff6e8"
      },
      "source": [
        "# \"has_a_bank_account\" vs \"Location\"\n",
        "pd.crosstab(df.has_a_bank_account, df.type_of_location, margins=True, margins_name=\"Total\")"
      ],
      "execution_count": 203,
      "outputs": [
        {
          "output_type": "execute_result",
          "data": {
            "text/html": [
              "<div>\n",
              "<style scoped>\n",
              "    .dataframe tbody tr th:only-of-type {\n",
              "        vertical-align: middle;\n",
              "    }\n",
              "\n",
              "    .dataframe tbody tr th {\n",
              "        vertical-align: top;\n",
              "    }\n",
              "\n",
              "    .dataframe thead th {\n",
              "        text-align: right;\n",
              "    }\n",
              "</style>\n",
              "<table border=\"1\" class=\"dataframe\">\n",
              "  <thead>\n",
              "    <tr style=\"text-align: right;\">\n",
              "      <th>type_of_location</th>\n",
              "      <th>Rural</th>\n",
              "      <th>Urban</th>\n",
              "      <th>Total</th>\n",
              "    </tr>\n",
              "    <tr>\n",
              "      <th>has_a_bank_account</th>\n",
              "      <th></th>\n",
              "      <th></th>\n",
              "      <th></th>\n",
              "    </tr>\n",
              "  </thead>\n",
              "  <tbody>\n",
              "    <tr>\n",
              "      <th>No</th>\n",
              "      <td>10145</td>\n",
              "      <td>5819</td>\n",
              "      <td>15964</td>\n",
              "    </tr>\n",
              "    <tr>\n",
              "      <th>Yes</th>\n",
              "      <td>1588</td>\n",
              "      <td>1556</td>\n",
              "      <td>3144</td>\n",
              "    </tr>\n",
              "    <tr>\n",
              "      <th>Total</th>\n",
              "      <td>11733</td>\n",
              "      <td>7375</td>\n",
              "      <td>19108</td>\n",
              "    </tr>\n",
              "  </tbody>\n",
              "</table>\n",
              "</div>"
            ],
            "text/plain": [
              "type_of_location    Rural  Urban  Total\n",
              "has_a_bank_account                     \n",
              "No                  10145   5819  15964\n",
              "Yes                  1588   1556   3144\n",
              "Total               11733   7375  19108"
            ]
          },
          "metadata": {
            "tags": []
          },
          "execution_count": 203
        }
      ]
    },
    {
      "cell_type": "code",
      "metadata": {
        "id": "nd_NS2-4DUNO",
        "colab_type": "code",
        "colab": {
          "base_uri": "https://localhost:8080/",
          "height": 280
        },
        "outputId": "598f2fe7-b744-47b1-df3d-b476d9a73c44"
      },
      "source": [
        "# Visualising\n",
        "sns.countplot(\"type_of_location\", hue=\"has_a_bank_account\", data = df)\n",
        "plt.show()"
      ],
      "execution_count": 204,
      "outputs": [
        {
          "output_type": "display_data",
          "data": {
            "image/png": "[encoded data removed]",
            "text/plain": [
              "<Figure size 432x288 with 1 Axes>"
            ]
          },
          "metadata": {
            "tags": [],
            "needs_background": "light"
          }
        }
      ]
    },
    {
      "cell_type": "code",
      "metadata": {
        "id": "Sep3fiXvv7Vl",
        "colab_type": "code",
        "colab": {
          "base_uri": "https://localhost:8080/",
          "height": 175
        },
        "outputId": "6cfb4b5e-89f1-4f58-8536-a07656d6d8eb"
      },
      "source": [
        "# \"has_a_bank_account\" vs \"cell_phone_access\"\n",
        "pd.crosstab(df.has_a_bank_account, df.cell_phone_access, margins=True, margins_name=\"Total\")"
      ],
      "execution_count": 205,
      "outputs": [
        {
          "output_type": "execute_result",
          "data": {
            "text/html": [
              "<div>\n",
              "<style scoped>\n",
              "    .dataframe tbody tr th:only-of-type {\n",
              "        vertical-align: middle;\n",
              "    }\n",
              "\n",
              "    .dataframe tbody tr th {\n",
              "        vertical-align: top;\n",
              "    }\n",
              "\n",
              "    .dataframe thead th {\n",
              "        text-align: right;\n",
              "    }\n",
              "</style>\n",
              "<table border=\"1\" class=\"dataframe\">\n",
              "  <thead>\n",
              "    <tr style=\"text-align: right;\">\n",
              "      <th>cell_phone_access</th>\n",
              "      <th>No</th>\n",
              "      <th>Yes</th>\n",
              "      <th>Total</th>\n",
              "    </tr>\n",
              "    <tr>\n",
              "      <th>has_a_bank_account</th>\n",
              "      <th></th>\n",
              "      <th></th>\n",
              "      <th></th>\n",
              "    </tr>\n",
              "  </thead>\n",
              "  <tbody>\n",
              "    <tr>\n",
              "      <th>No</th>\n",
              "      <td>4894</td>\n",
              "      <td>11074</td>\n",
              "      <td>15968</td>\n",
              "    </tr>\n",
              "    <tr>\n",
              "      <th>Yes</th>\n",
              "      <td>103</td>\n",
              "      <td>3041</td>\n",
              "      <td>3144</td>\n",
              "    </tr>\n",
              "    <tr>\n",
              "      <th>Total</th>\n",
              "      <td>4997</td>\n",
              "      <td>14115</td>\n",
              "      <td>19112</td>\n",
              "    </tr>\n",
              "  </tbody>\n",
              "</table>\n",
              "</div>"
            ],
            "text/plain": [
              "cell_phone_access     No    Yes  Total\n",
              "has_a_bank_account                    \n",
              "No                  4894  11074  15968\n",
              "Yes                  103   3041   3144\n",
              "Total               4997  14115  19112"
            ]
          },
          "metadata": {
            "tags": []
          },
          "execution_count": 205
        }
      ]
    },
    {
      "cell_type": "code",
      "metadata": {
        "id": "KUpT46CmEXIS",
        "colab_type": "code",
        "colab": {
          "base_uri": "https://localhost:8080/",
          "height": 280
        },
        "outputId": "d2f4aa76-76fe-41b5-e484-0b508b70c1a1"
      },
      "source": [
        "# Visualising \"has_a_bank_account\" vs \"cell_phone_access\"\n",
        "sns.countplot(\"cell_phone_access\", hue=\"has_a_bank_account\", data = df)\n",
        "plt.show()"
      ],
      "execution_count": 206,
      "outputs": [
        {
          "output_type": "display_data",
          "data": {
            "image/png": "[encoded data removed]",
            "text/plain": [
              "<Figure size 432x288 with 1 Axes>"
            ]
          },
          "metadata": {
            "tags": [],
            "needs_background": "light"
          }
        }
      ]
    },
    {
      "cell_type": "code",
      "metadata": {
        "id": "B5YhYCk1w99U",
        "colab_type": "code",
        "colab": {
          "base_uri": "https://localhost:8080/",
          "height": 175
        },
        "outputId": "76854276-07a2-457e-b031-0c776dda41bd"
      },
      "source": [
        "# \"has_a_bank_account\" vs \"gender_of_respondent\"\n",
        "pd.crosstab(df.has_a_bank_account, df.gender_of_respondent, margins=True, margins_name=\"Total\")"
      ],
      "execution_count": 207,
      "outputs": [
        {
          "output_type": "execute_result",
          "data": {
            "text/html": [
              "<div>\n",
              "<style scoped>\n",
              "    .dataframe tbody tr th:only-of-type {\n",
              "        vertical-align: middle;\n",
              "    }\n",
              "\n",
              "    .dataframe tbody tr th {\n",
              "        vertical-align: top;\n",
              "    }\n",
              "\n",
              "    .dataframe thead th {\n",
              "        text-align: right;\n",
              "    }\n",
              "</style>\n",
              "<table border=\"1\" class=\"dataframe\">\n",
              "  <thead>\n",
              "    <tr style=\"text-align: right;\">\n",
              "      <th>gender_of_respondent</th>\n",
              "      <th>Female</th>\n",
              "      <th>Male</th>\n",
              "      <th>Total</th>\n",
              "    </tr>\n",
              "    <tr>\n",
              "      <th>has_a_bank_account</th>\n",
              "      <th></th>\n",
              "      <th></th>\n",
              "      <th></th>\n",
              "    </tr>\n",
              "  </thead>\n",
              "  <tbody>\n",
              "    <tr>\n",
              "      <th>No</th>\n",
              "      <td>9927</td>\n",
              "      <td>6015</td>\n",
              "      <td>15942</td>\n",
              "    </tr>\n",
              "    <tr>\n",
              "      <th>Yes</th>\n",
              "      <td>1433</td>\n",
              "      <td>1707</td>\n",
              "      <td>3140</td>\n",
              "    </tr>\n",
              "    <tr>\n",
              "      <th>Total</th>\n",
              "      <td>11360</td>\n",
              "      <td>7722</td>\n",
              "      <td>19082</td>\n",
              "    </tr>\n",
              "  </tbody>\n",
              "</table>\n",
              "</div>"
            ],
            "text/plain": [
              "gender_of_respondent  Female  Male  Total\n",
              "has_a_bank_account                       \n",
              "No                      9927  6015  15942\n",
              "Yes                     1433  1707   3140\n",
              "Total                  11360  7722  19082"
            ]
          },
          "metadata": {
            "tags": []
          },
          "execution_count": 207
        }
      ]
    },
    {
      "cell_type": "code",
      "metadata": {
        "id": "4q7NpcnZEjde",
        "colab_type": "code",
        "colab": {
          "base_uri": "https://localhost:8080/",
          "height": 280
        },
        "outputId": "ba7fabd2-7b71-43a1-bd6b-7d48f9976442"
      },
      "source": [
        "# Visualising \"has_a_bank_account\" vs \"gender_of_respondent\"\n",
        "sns.countplot(\"gender_of_respondent\", hue=\"has_a_bank_account\", data = df)\n",
        "plt.show()"
      ],
      "execution_count": 208,
      "outputs": [
        {
          "output_type": "display_data",
          "data": {
            "image/png": "[encoded data removed]",
            "text/plain": [
              "<Figure size 432x288 with 1 Axes>"
            ]
          },
          "metadata": {
            "tags": [],
            "needs_background": "light"
          }
        }
      ]
    },
    {
      "cell_type": "code",
      "metadata": {
        "id": "pHCEDstQxcN0",
        "colab_type": "code",
        "colab": {
          "base_uri": "https://localhost:8080/",
          "height": 175
        },
        "outputId": "7a66a9fc-1e82-497c-8669-178e40c50409"
      },
      "source": [
        "# \"has_a_bank_account\" vs \"the_relationship_with_head\"\n",
        "pd.crosstab(df.has_a_bank_account, df.the_relathip_with_head, margins=True, margins_name=\"Total\")"
      ],
      "execution_count": 209,
      "outputs": [
        {
          "output_type": "execute_result",
          "data": {
            "text/html": [
              "<div>\n",
              "<style scoped>\n",
              "    .dataframe tbody tr th:only-of-type {\n",
              "        vertical-align: middle;\n",
              "    }\n",
              "\n",
              "    .dataframe tbody tr th {\n",
              "        vertical-align: top;\n",
              "    }\n",
              "\n",
              "    .dataframe thead th {\n",
              "        text-align: right;\n",
              "    }\n",
              "</style>\n",
              "<table border=\"1\" class=\"dataframe\">\n",
              "  <thead>\n",
              "    <tr style=\"text-align: right;\">\n",
              "      <th>the_relathip_with_head</th>\n",
              "      <th>Child</th>\n",
              "      <th>Head of Household</th>\n",
              "      <th>Other non-relatives</th>\n",
              "      <th>Other relative</th>\n",
              "      <th>Parent</th>\n",
              "      <th>Spouse</th>\n",
              "      <th>Total</th>\n",
              "    </tr>\n",
              "    <tr>\n",
              "      <th>has_a_bank_account</th>\n",
              "      <th></th>\n",
              "      <th></th>\n",
              "      <th></th>\n",
              "      <th></th>\n",
              "      <th></th>\n",
              "      <th></th>\n",
              "      <th></th>\n",
              "    </tr>\n",
              "  </thead>\n",
              "  <tbody>\n",
              "    <tr>\n",
              "      <th>No</th>\n",
              "      <td>1717</td>\n",
              "      <td>8476</td>\n",
              "      <td>166</td>\n",
              "      <td>589</td>\n",
              "      <td>953</td>\n",
              "      <td>4067</td>\n",
              "      <td>15968</td>\n",
              "    </tr>\n",
              "    <tr>\n",
              "      <th>Yes</th>\n",
              "      <td>192</td>\n",
              "      <td>2141</td>\n",
              "      <td>20</td>\n",
              "      <td>65</td>\n",
              "      <td>65</td>\n",
              "      <td>661</td>\n",
              "      <td>3144</td>\n",
              "    </tr>\n",
              "    <tr>\n",
              "      <th>Total</th>\n",
              "      <td>1909</td>\n",
              "      <td>10617</td>\n",
              "      <td>186</td>\n",
              "      <td>654</td>\n",
              "      <td>1018</td>\n",
              "      <td>4728</td>\n",
              "      <td>19112</td>\n",
              "    </tr>\n",
              "  </tbody>\n",
              "</table>\n",
              "</div>"
            ],
            "text/plain": [
              "the_relathip_with_head  Child  Head of Household  ...  Spouse  Total\n",
              "has_a_bank_account                                ...               \n",
              "No                       1717               8476  ...    4067  15968\n",
              "Yes                       192               2141  ...     661   3144\n",
              "Total                    1909              10617  ...    4728  19112\n",
              "\n",
              "[3 rows x 7 columns]"
            ]
          },
          "metadata": {
            "tags": []
          },
          "execution_count": 209
        }
      ]
    },
    {
      "cell_type": "code",
      "metadata": {
        "id": "BWdwHwqFEx6X",
        "colab_type": "code",
        "colab": {
          "base_uri": "https://localhost:8080/",
          "height": 280
        },
        "outputId": "fa40cbc4-351c-4955-926e-f637703c9d4c"
      },
      "source": [
        "# Visualising \"has_a_bank_account\" vs \"the_relationship_with_head\"\n",
        "sns.countplot(\"has_a_bank_account\", hue=\"the_relathip_with_head\",data = df)\n",
        "plt.show()"
      ],
      "execution_count": 210,
      "outputs": [
        {
          "output_type": "display_data",
          "data": {
            "image/png": "[encoded data removed]",
            "text/plain": [
              "<Figure size 432x288 with 1 Axes>"
            ]
          },
          "metadata": {
            "tags": [],
            "needs_background": "light"
          }
        }
      ]
    },
    {
      "cell_type": "code",
      "metadata": {
        "id": "8O_ZW8R6FQ6P",
        "colab_type": "code",
        "colab": {
          "base_uri": "https://localhost:8080/",
          "height": 280
        },
        "outputId": "bcf9e2f9-33dd-445f-e32b-6443b1a14555"
      },
      "source": [
        "# Plot 2\n",
        "sns.countplot(\"the_relathip_with_head\", hue=\"has_a_bank_account\", data = df)\n",
        "plt.show()"
      ],
      "execution_count": 211,
      "outputs": [
        {
          "output_type": "display_data",
          "data": {
            "image/png": "[encoded data removed]",
            "text/plain": [
              "<Figure size 432x288 with 1 Axes>"
            ]
          },
          "metadata": {
            "tags": [],
            "needs_background": "light"
          }
        }
      ]
    },
    {
      "cell_type": "code",
      "metadata": {
        "id": "WtE8q2x3xzWh",
        "colab_type": "code",
        "colab": {
          "base_uri": "https://localhost:8080/",
          "height": 175
        },
        "outputId": "69696f13-aaa3-4439-d136-1f02897b14f9"
      },
      "source": [
        "# \"has_a_bank_account\" vs \"marital_status\"\n",
        "pd.crosstab(df.has_a_bank_account, df.marital_status, margins=True, margins_name=\"Total\")"
      ],
      "execution_count": 212,
      "outputs": [
        {
          "output_type": "execute_result",
          "data": {
            "text/html": [
              "<div>\n",
              "<style scoped>\n",
              "    .dataframe tbody tr th:only-of-type {\n",
              "        vertical-align: middle;\n",
              "    }\n",
              "\n",
              "    .dataframe tbody tr th {\n",
              "        vertical-align: top;\n",
              "    }\n",
              "\n",
              "    .dataframe thead th {\n",
              "        text-align: right;\n",
              "    }\n",
              "</style>\n",
              "<table border=\"1\" class=\"dataframe\">\n",
              "  <thead>\n",
              "    <tr style=\"text-align: right;\">\n",
              "      <th>marital_status</th>\n",
              "      <th>Divorced/Seperated</th>\n",
              "      <th>Dont know</th>\n",
              "      <th>Married/Living together</th>\n",
              "      <th>Single/Never Married</th>\n",
              "      <th>Widowed</th>\n",
              "      <th>Total</th>\n",
              "    </tr>\n",
              "    <tr>\n",
              "      <th>has_a_bank_account</th>\n",
              "      <th></th>\n",
              "      <th></th>\n",
              "      <th></th>\n",
              "      <th></th>\n",
              "      <th></th>\n",
              "      <th></th>\n",
              "    </tr>\n",
              "  </thead>\n",
              "  <tbody>\n",
              "    <tr>\n",
              "      <th>No</th>\n",
              "      <td>1724</td>\n",
              "      <td>6</td>\n",
              "      <td>6907</td>\n",
              "      <td>5147</td>\n",
              "      <td>2159</td>\n",
              "      <td>15943</td>\n",
              "    </tr>\n",
              "    <tr>\n",
              "      <th>Yes</th>\n",
              "      <td>226</td>\n",
              "      <td>2</td>\n",
              "      <td>1772</td>\n",
              "      <td>899</td>\n",
              "      <td>243</td>\n",
              "      <td>3142</td>\n",
              "    </tr>\n",
              "    <tr>\n",
              "      <th>Total</th>\n",
              "      <td>1950</td>\n",
              "      <td>8</td>\n",
              "      <td>8679</td>\n",
              "      <td>6046</td>\n",
              "      <td>2402</td>\n",
              "      <td>19085</td>\n",
              "    </tr>\n",
              "  </tbody>\n",
              "</table>\n",
              "</div>"
            ],
            "text/plain": [
              "marital_status      Divorced/Seperated  Dont know  ...  Widowed  Total\n",
              "has_a_bank_account                                 ...                \n",
              "No                                1724          6  ...     2159  15943\n",
              "Yes                                226          2  ...      243   3142\n",
              "Total                             1950          8  ...     2402  19085\n",
              "\n",
              "[3 rows x 6 columns]"
            ]
          },
          "metadata": {
            "tags": []
          },
          "execution_count": 212
        }
      ]
    },
    {
      "cell_type": "code",
      "metadata": {
        "id": "ZhNDL2wCFggF",
        "colab_type": "code",
        "colab": {
          "base_uri": "https://localhost:8080/",
          "height": 280
        },
        "outputId": "41ef9bfa-84f2-4fc0-f850-10115d2e863f"
      },
      "source": [
        "# Visualising \"has_a_bank_account\" vs \"marital_status\"\n",
        "sns.countplot(\"has_a_bank_account\", hue=\"marital_status\",data = df)\n",
        "plt.show()"
      ],
      "execution_count": 213,
      "outputs": [
        {
          "output_type": "display_data",
          "data": {
            "image/png": "[encoded data removed]",
            "text/plain": [
              "<Figure size 432x288 with 1 Axes>"
            ]
          },
          "metadata": {
            "tags": [],
            "needs_background": "light"
          }
        }
      ]
    },
    {
      "cell_type": "code",
      "metadata": {
        "id": "VAXhdtlzynrF",
        "colab_type": "code",
        "colab": {
          "base_uri": "https://localhost:8080/",
          "height": 175
        },
        "outputId": "4b2e9241-aa51-496f-b76d-688565a6cac3"
      },
      "source": [
        "# \"has_a_bank_account\" vs \"level_of_education\"\n",
        "pd.crosstab(df.has_a_bank_account, df.level_of_educuation, margins=True, margins_name=\"Total\")"
      ],
      "execution_count": 214,
      "outputs": [
        {
          "output_type": "execute_result",
          "data": {
            "text/html": [
              "<div>\n",
              "<style scoped>\n",
              "    .dataframe tbody tr th:only-of-type {\n",
              "        vertical-align: middle;\n",
              "    }\n",
              "\n",
              "    .dataframe tbody tr th {\n",
              "        vertical-align: top;\n",
              "    }\n",
              "\n",
              "    .dataframe thead th {\n",
              "        text-align: right;\n",
              "    }\n",
              "</style>\n",
              "<table border=\"1\" class=\"dataframe\">\n",
              "  <thead>\n",
              "    <tr style=\"text-align: right;\">\n",
              "      <th>level_of_educuation</th>\n",
              "      <th>No formal education</th>\n",
              "      <th>Other/Dont know/RTA</th>\n",
              "      <th>Primary education</th>\n",
              "      <th>Secondary education</th>\n",
              "      <th>Tertiary education</th>\n",
              "      <th>Vocational/Specialised training</th>\n",
              "      <th>Total</th>\n",
              "    </tr>\n",
              "    <tr>\n",
              "      <th>has_a_bank_account</th>\n",
              "      <th></th>\n",
              "      <th></th>\n",
              "      <th></th>\n",
              "      <th></th>\n",
              "      <th></th>\n",
              "      <th></th>\n",
              "      <th></th>\n",
              "    </tr>\n",
              "  </thead>\n",
              "  <tbody>\n",
              "    <tr>\n",
              "      <th>No</th>\n",
              "      <td>3724</td>\n",
              "      <td>2</td>\n",
              "      <td>8457</td>\n",
              "      <td>2898</td>\n",
              "      <td>525</td>\n",
              "      <td>339</td>\n",
              "      <td>15945</td>\n",
              "    </tr>\n",
              "    <tr>\n",
              "      <th>Yes</th>\n",
              "      <td>175</td>\n",
              "      <td>6</td>\n",
              "      <td>1040</td>\n",
              "      <td>923</td>\n",
              "      <td>558</td>\n",
              "      <td>440</td>\n",
              "      <td>3142</td>\n",
              "    </tr>\n",
              "    <tr>\n",
              "      <th>Total</th>\n",
              "      <td>3899</td>\n",
              "      <td>8</td>\n",
              "      <td>9497</td>\n",
              "      <td>3821</td>\n",
              "      <td>1083</td>\n",
              "      <td>779</td>\n",
              "      <td>19087</td>\n",
              "    </tr>\n",
              "  </tbody>\n",
              "</table>\n",
              "</div>"
            ],
            "text/plain": [
              "level_of_educuation  No formal education  ...  Total\n",
              "has_a_bank_account                        ...       \n",
              "No                                  3724  ...  15945\n",
              "Yes                                  175  ...   3142\n",
              "Total                               3899  ...  19087\n",
              "\n",
              "[3 rows x 7 columns]"
            ]
          },
          "metadata": {
            "tags": []
          },
          "execution_count": 214
        }
      ]
    },
    {
      "cell_type": "code",
      "metadata": {
        "id": "RJedhnd8FsH7",
        "colab_type": "code",
        "colab": {
          "base_uri": "https://localhost:8080/",
          "height": 280
        },
        "outputId": "2692dc6e-df5c-423a-fba7-23ec13127d47"
      },
      "source": [
        "# Visualising \"has_a_bank_account\" vs \"level_of_education\"\n",
        "sns.countplot(\"has_a_bank_account\", hue=\"level_of_educuation\",data = df)\n",
        "plt.show()"
      ],
      "execution_count": 215,
      "outputs": [
        {
          "output_type": "display_data",
          "data": {
            "image/png": "[encoded data removed]",
            "text/plain": [
              "<Figure size 432x288 with 1 Axes>"
            ]
          },
          "metadata": {
            "tags": [],
            "needs_background": "light"
          }
        }
      ]
    },
    {
      "cell_type": "markdown",
      "metadata": {
        "id": "dXu2mZRqvaqT",
        "colab_type": "text"
      },
      "source": [
        "**Findings**\n",
        "\n",
        "1. Both rural and urban pupulation might be equally banked. Both have low numbers for the banked people\n",
        "\n",
        "2. Access of phone increases the chances of one being banked\n",
        "\n",
        "3. The male gender is more banked than the female gender.\n",
        "\n",
        "4. The head of the household is more likely to own a bank account\n",
        "\n",
        "5. The higher the level of education the more likely one is likely to have a bank account"
      ]
    },
    {
      "cell_type": "markdown",
      "metadata": {
        "id": "r7YbPys8bxna",
        "colab_type": "text"
      },
      "source": [
        "**MULTIVARIATE ANALYSIS**\n"
      ]
    },
    {
      "cell_type": "code",
      "metadata": {
        "id": "1Twy3MzILW42",
        "colab_type": "code",
        "colab": {
          "base_uri": "https://localhost:8080/",
          "height": 330
        },
        "outputId": "7317d4cd-620b-4da6-f28c-82d4269b8008"
      },
      "source": [
        "# Previewing the data once more\n",
        "df.head()"
      ],
      "execution_count": 228,
      "outputs": [
        {
          "output_type": "execute_result",
          "data": {
            "text/html": [
              "<div>\n",
              "<style scoped>\n",
              "    .dataframe tbody tr th:only-of-type {\n",
              "        vertical-align: middle;\n",
              "    }\n",
              "\n",
              "    .dataframe tbody tr th {\n",
              "        vertical-align: top;\n",
              "    }\n",
              "\n",
              "    .dataframe thead th {\n",
              "        text-align: right;\n",
              "    }\n",
              "</style>\n",
              "<table border=\"1\" class=\"dataframe\">\n",
              "  <thead>\n",
              "    <tr style=\"text-align: right;\">\n",
              "      <th></th>\n",
              "      <th>country</th>\n",
              "      <th>year</th>\n",
              "      <th>has_a_bank_account</th>\n",
              "      <th>type_of_location</th>\n",
              "      <th>cell_phone_access</th>\n",
              "      <th>household_size</th>\n",
              "      <th>respondent_age</th>\n",
              "      <th>gender_of_respondent</th>\n",
              "      <th>the_relathip_with_head</th>\n",
              "      <th>marital_status</th>\n",
              "      <th>level_of_educuation</th>\n",
              "      <th>type_of_job</th>\n",
              "    </tr>\n",
              "  </thead>\n",
              "  <tbody>\n",
              "    <tr>\n",
              "      <th>0</th>\n",
              "      <td>Kenya</td>\n",
              "      <td>2018</td>\n",
              "      <td>Yes</td>\n",
              "      <td>Rural</td>\n",
              "      <td>Yes</td>\n",
              "      <td>3.0</td>\n",
              "      <td>24.0</td>\n",
              "      <td>Female</td>\n",
              "      <td>Spouse</td>\n",
              "      <td>Married/Living together</td>\n",
              "      <td>Secondary education</td>\n",
              "      <td>Self employed</td>\n",
              "    </tr>\n",
              "    <tr>\n",
              "      <th>1</th>\n",
              "      <td>Kenya</td>\n",
              "      <td>2018</td>\n",
              "      <td>No</td>\n",
              "      <td>Rural</td>\n",
              "      <td>No</td>\n",
              "      <td>5.0</td>\n",
              "      <td>70.0</td>\n",
              "      <td>Female</td>\n",
              "      <td>Head of Household</td>\n",
              "      <td>Widowed</td>\n",
              "      <td>No formal education</td>\n",
              "      <td>Government Dependent</td>\n",
              "    </tr>\n",
              "    <tr>\n",
              "      <th>2</th>\n",
              "      <td>Kenya</td>\n",
              "      <td>2018</td>\n",
              "      <td>Yes</td>\n",
              "      <td>Urban</td>\n",
              "      <td>Yes</td>\n",
              "      <td>5.0</td>\n",
              "      <td>26.0</td>\n",
              "      <td>Male</td>\n",
              "      <td>Other relative</td>\n",
              "      <td>Single/Never Married</td>\n",
              "      <td>Vocational/Specialised training</td>\n",
              "      <td>Self employed</td>\n",
              "    </tr>\n",
              "    <tr>\n",
              "      <th>3</th>\n",
              "      <td>Kenya</td>\n",
              "      <td>2018</td>\n",
              "      <td>No</td>\n",
              "      <td>Rural</td>\n",
              "      <td>Yes</td>\n",
              "      <td>5.0</td>\n",
              "      <td>34.0</td>\n",
              "      <td>Female</td>\n",
              "      <td>Head of Household</td>\n",
              "      <td>Married/Living together</td>\n",
              "      <td>Primary education</td>\n",
              "      <td>Formally employed Private</td>\n",
              "    </tr>\n",
              "    <tr>\n",
              "      <th>4</th>\n",
              "      <td>Kenya</td>\n",
              "      <td>2018</td>\n",
              "      <td>No</td>\n",
              "      <td>Urban</td>\n",
              "      <td>No</td>\n",
              "      <td>8.0</td>\n",
              "      <td>26.0</td>\n",
              "      <td>Male</td>\n",
              "      <td>Child</td>\n",
              "      <td>Single/Never Married</td>\n",
              "      <td>Primary education</td>\n",
              "      <td>Informally employed</td>\n",
              "    </tr>\n",
              "  </tbody>\n",
              "</table>\n",
              "</div>"
            ],
            "text/plain": [
              "  country  year  ...              level_of_educuation                type_of_job\n",
              "0   Kenya  2018  ...              Secondary education              Self employed\n",
              "1   Kenya  2018  ...              No formal education       Government Dependent\n",
              "2   Kenya  2018  ...  Vocational/Specialised training              Self employed\n",
              "3   Kenya  2018  ...                Primary education  Formally employed Private\n",
              "4   Kenya  2018  ...                Primary education        Informally employed\n",
              "\n",
              "[5 rows x 12 columns]"
            ]
          },
          "metadata": {
            "tags": []
          },
          "execution_count": 228
        }
      ]
    },
    {
      "cell_type": "code",
      "metadata": {
        "id": "cSTGbvDTLRKC",
        "colab_type": "code",
        "colab": {
          "base_uri": "https://localhost:8080/",
          "height": 226
        },
        "outputId": "7ee44d0c-d76b-40cf-850c-0408e1b6269a"
      },
      "source": [
        "# Encoding categorical data\n",
        "cleanup = {\n",
        "    \"has_a_bank_account\": {\"No\": 0, \"Yes\": 1},\n",
        "    \"type_of_location\": {\"Rural\": 0, \"Urban\": 1},\n",
        "    \"cell_phone_access\": {\"No\":0,\"Yes\":1 },\n",
        "    \"gender_of_respondent\": {\"Female\":0, \"Male\":1 },\n",
        "    \"the_relathip_with_head\": {\"Spouse\":0, \"Head of Household\":1, \n",
        "                                      \"Other relative\":2, \"Child\":3, \"Parent\":4, \"Other non-relatives\":5},\n",
        "    \"marital_status\": {\"Married/Living together\":0, \"Widowed\":1, \"Single/Never Married\":2, \n",
        "                              \"Divorced/Seperated\":3, \"Dont know\":4},\n",
        "    \"level_of_educuation\": {\"Secondary education\":0, \"No formal education\":1, \"Vocational/Specialised training\":2, \n",
        "                                   \"Primary education\":3, \"Tertiary education\":4, \"Other/Dont know/RTA\":5},\n",
        "    \"type_of_job\": {'Self employed':0, \"Government Dependent\":1, \"Formally employed Private\":2, \"Informally employed\":3, \n",
        "                           \"Formally employed Government\":4, \"Farming and Fishing\":5,\"Remittance Dependent\":6, \"Other Income\":7,\n",
        "                           \"Dont Know/Refuse to answer\":8, \"No Income\":9}\n",
        "          }\n",
        "df.replace(cleanup, inplace=True)\n",
        "\n",
        "df.head()"
      ],
      "execution_count": 229,
      "outputs": [
        {
          "output_type": "execute_result",
          "data": {
            "text/html": [
              "<div>\n",
              "<style scoped>\n",
              "    .dataframe tbody tr th:only-of-type {\n",
              "        vertical-align: middle;\n",
              "    }\n",
              "\n",
              "    .dataframe tbody tr th {\n",
              "        vertical-align: top;\n",
              "    }\n",
              "\n",
              "    .dataframe thead th {\n",
              "        text-align: right;\n",
              "    }\n",
              "</style>\n",
              "<table border=\"1\" class=\"dataframe\">\n",
              "  <thead>\n",
              "    <tr style=\"text-align: right;\">\n",
              "      <th></th>\n",
              "      <th>country</th>\n",
              "      <th>year</th>\n",
              "      <th>has_a_bank_account</th>\n",
              "      <th>type_of_location</th>\n",
              "      <th>cell_phone_access</th>\n",
              "      <th>household_size</th>\n",
              "      <th>respondent_age</th>\n",
              "      <th>gender_of_respondent</th>\n",
              "      <th>the_relathip_with_head</th>\n",
              "      <th>marital_status</th>\n",
              "      <th>level_of_educuation</th>\n",
              "      <th>type_of_job</th>\n",
              "    </tr>\n",
              "  </thead>\n",
              "  <tbody>\n",
              "    <tr>\n",
              "      <th>0</th>\n",
              "      <td>Kenya</td>\n",
              "      <td>2018</td>\n",
              "      <td>1.0</td>\n",
              "      <td>0.0</td>\n",
              "      <td>1.0</td>\n",
              "      <td>3.0</td>\n",
              "      <td>24.0</td>\n",
              "      <td>0.0</td>\n",
              "      <td>0.0</td>\n",
              "      <td>0.0</td>\n",
              "      <td>0</td>\n",
              "      <td>0.0</td>\n",
              "    </tr>\n",
              "    <tr>\n",
              "      <th>1</th>\n",
              "      <td>Kenya</td>\n",
              "      <td>2018</td>\n",
              "      <td>0.0</td>\n",
              "      <td>0.0</td>\n",
              "      <td>0.0</td>\n",
              "      <td>5.0</td>\n",
              "      <td>70.0</td>\n",
              "      <td>0.0</td>\n",
              "      <td>1.0</td>\n",
              "      <td>1.0</td>\n",
              "      <td>1</td>\n",
              "      <td>1.0</td>\n",
              "    </tr>\n",
              "    <tr>\n",
              "      <th>2</th>\n",
              "      <td>Kenya</td>\n",
              "      <td>2018</td>\n",
              "      <td>1.0</td>\n",
              "      <td>1.0</td>\n",
              "      <td>1.0</td>\n",
              "      <td>5.0</td>\n",
              "      <td>26.0</td>\n",
              "      <td>1.0</td>\n",
              "      <td>2.0</td>\n",
              "      <td>2.0</td>\n",
              "      <td>2</td>\n",
              "      <td>0.0</td>\n",
              "    </tr>\n",
              "    <tr>\n",
              "      <th>3</th>\n",
              "      <td>Kenya</td>\n",
              "      <td>2018</td>\n",
              "      <td>0.0</td>\n",
              "      <td>0.0</td>\n",
              "      <td>1.0</td>\n",
              "      <td>5.0</td>\n",
              "      <td>34.0</td>\n",
              "      <td>0.0</td>\n",
              "      <td>1.0</td>\n",
              "      <td>0.0</td>\n",
              "      <td>3</td>\n",
              "      <td>2.0</td>\n",
              "    </tr>\n",
              "    <tr>\n",
              "      <th>4</th>\n",
              "      <td>Kenya</td>\n",
              "      <td>2018</td>\n",
              "      <td>0.0</td>\n",
              "      <td>1.0</td>\n",
              "      <td>0.0</td>\n",
              "      <td>8.0</td>\n",
              "      <td>26.0</td>\n",
              "      <td>1.0</td>\n",
              "      <td>3.0</td>\n",
              "      <td>2.0</td>\n",
              "      <td>3</td>\n",
              "      <td>3.0</td>\n",
              "    </tr>\n",
              "  </tbody>\n",
              "</table>\n",
              "</div>"
            ],
            "text/plain": [
              "  country  year  ...  level_of_educuation  type_of_job\n",
              "0   Kenya  2018  ...                    0          0.0\n",
              "1   Kenya  2018  ...                    1          1.0\n",
              "2   Kenya  2018  ...                    2          0.0\n",
              "3   Kenya  2018  ...                    3          2.0\n",
              "4   Kenya  2018  ...                    3          3.0\n",
              "\n",
              "[5 rows x 12 columns]"
            ]
          },
          "metadata": {
            "tags": []
          },
          "execution_count": 229
        }
      ]
    },
    {
      "cell_type": "code",
      "metadata": {
        "id": "nu9SzRmlS-TY",
        "colab_type": "code",
        "colab": {}
      },
      "source": [
        "# Further dropping of columns\n",
        "df = df.drop(['country','year'], axis=1)"
      ],
      "execution_count": 230,
      "outputs": []
    },
    {
      "cell_type": "code",
      "metadata": {
        "id": "kYSp3hmyTK_O",
        "colab_type": "code",
        "colab": {}
      },
      "source": [
        "# Removing any null values\n",
        "\n",
        "df = df[~df.has_a_bank_account.isnull()]\n",
        "df = df[~df.type_of_location.isnull()]\n",
        "df = df[~df.cell_phone_access.isnull()]\n",
        "df = df [~df.household_size.isnull()]\n",
        "df = df[~df.respondent_age.isnull()]\n",
        "df = df[~df.gender_of_respondent.isnull()]\n",
        "df = df[~df.the_relathip_with_head.isnull()]\n",
        "df = df[~df.marital_status.isnull()]\n",
        "df = df[~df.level_of_educuation.isnull()]\n",
        "df = df[~df.type_of_job.isnull()]"
      ],
      "execution_count": 231,
      "outputs": []
    },
    {
      "cell_type": "code",
      "metadata": {
        "id": "WDBg07BWMr-l",
        "colab_type": "code",
        "colab": {
          "base_uri": "https://localhost:8080/",
          "height": 312
        },
        "outputId": "2097a0ca-817f-4b77-ae3e-26bde9ab40ac"
      },
      "source": [
        "# Removing all the 'nan' entries\n",
        "df.info()"
      ],
      "execution_count": 232,
      "outputs": [
        {
          "output_type": "stream",
          "text": [
            "<class 'pandas.core.frame.DataFrame'>\n",
            "Int64Index: 23357 entries, 0 to 23523\n",
            "Data columns (total 10 columns):\n",
            " #   Column                  Non-Null Count  Dtype  \n",
            "---  ------                  --------------  -----  \n",
            " 0   has_a_bank_account      23357 non-null  float64\n",
            " 1   type_of_location        23357 non-null  float64\n",
            " 2   cell_phone_access       23357 non-null  float64\n",
            " 3   household_size          23357 non-null  float64\n",
            " 4   respondent_age          23357 non-null  float64\n",
            " 5   gender_of_respondent    23357 non-null  float64\n",
            " 6   the_relathip_with_head  23357 non-null  float64\n",
            " 7   marital_status          23357 non-null  float64\n",
            " 8   level_of_educuation     23357 non-null  object \n",
            " 9   type_of_job             23357 non-null  float64\n",
            "dtypes: float64(9), object(1)\n",
            "memory usage: 2.0+ MB\n"
          ],
          "name": "stdout"
        }
      ]
    },
    {
      "cell_type": "code",
      "metadata": {
        "id": "EwcQfB-gWyac",
        "colab_type": "code",
        "colab": {
          "base_uri": "https://localhost:8080/",
          "height": 501
        },
        "outputId": "21278f10-bcb8-48a5-bf26-2648c2c86486"
      },
      "source": [
        "# Let's plot correlation matrix to find out less correlated variable to drop them\n",
        "cor=df.corr()\n",
        "plt.figure(figsize=(14,6))\n",
        "sns.heatmap(cor,annot=True)"
      ],
      "execution_count": 233,
      "outputs": [
        {
          "output_type": "execute_result",
          "data": {
            "text/plain": [
              "<matplotlib.axes._subplots.AxesSubplot at 0x7f103463ff28>"
            ]
          },
          "metadata": {
            "tags": []
          },
          "execution_count": 233
        },
        {
          "output_type": "display_data",
          "data": {
            "image/png": "[encoded data removed]",
            "text/plain": [
              "<Figure size 1008x432 with 2 Axes>"
            ]
          },
          "metadata": {
            "tags": [],
            "needs_background": "light"
          }
        }
      ]
    },
    {
      "cell_type": "code",
      "metadata": {
        "id": "L6s9zmvZXLQ5",
        "colab_type": "code",
        "colab": {}
      },
      "source": [
        "# From the correlation matrix we can see that some of the features are not much useful like\n",
        "\n",
        "# These include: \n",
        "#   - household_size\n",
        "#   - respondent_age\n",
        "#   - the_relathip_with_head\n",
        "#   - marital_status\n",
        "#   - level_of_education\n",
        "#   - type_of_job\n",
        "df = df.drop(['household_size', 'respondent_age', 'the_relathip_with_head', 'marital_status', 'level_of_educuation', 'type_of_job'], axis=1)"
      ],
      "execution_count": 234,
      "outputs": []
    },
    {
      "cell_type": "code",
      "metadata": {
        "id": "Z4VDJG06Y3tY",
        "colab_type": "code",
        "colab": {
          "base_uri": "https://localhost:8080/",
          "height": 206
        },
        "outputId": "e1d18a62-75e7-457e-b8cf-49cc9c5ae6a7"
      },
      "source": [
        "# Preview of the reducted data\n",
        "df.head()"
      ],
      "execution_count": 236,
      "outputs": [
        {
          "output_type": "execute_result",
          "data": {
            "text/html": [
              "<div>\n",
              "<style scoped>\n",
              "    .dataframe tbody tr th:only-of-type {\n",
              "        vertical-align: middle;\n",
              "    }\n",
              "\n",
              "    .dataframe tbody tr th {\n",
              "        vertical-align: top;\n",
              "    }\n",
              "\n",
              "    .dataframe thead th {\n",
              "        text-align: right;\n",
              "    }\n",
              "</style>\n",
              "<table border=\"1\" class=\"dataframe\">\n",
              "  <thead>\n",
              "    <tr style=\"text-align: right;\">\n",
              "      <th></th>\n",
              "      <th>has_a_bank_account</th>\n",
              "      <th>type_of_location</th>\n",
              "      <th>cell_phone_access</th>\n",
              "      <th>gender_of_respondent</th>\n",
              "    </tr>\n",
              "  </thead>\n",
              "  <tbody>\n",
              "    <tr>\n",
              "      <th>0</th>\n",
              "      <td>1.0</td>\n",
              "      <td>0.0</td>\n",
              "      <td>1.0</td>\n",
              "      <td>0.0</td>\n",
              "    </tr>\n",
              "    <tr>\n",
              "      <th>1</th>\n",
              "      <td>0.0</td>\n",
              "      <td>0.0</td>\n",
              "      <td>0.0</td>\n",
              "      <td>0.0</td>\n",
              "    </tr>\n",
              "    <tr>\n",
              "      <th>2</th>\n",
              "      <td>1.0</td>\n",
              "      <td>1.0</td>\n",
              "      <td>1.0</td>\n",
              "      <td>1.0</td>\n",
              "    </tr>\n",
              "    <tr>\n",
              "      <th>3</th>\n",
              "      <td>0.0</td>\n",
              "      <td>0.0</td>\n",
              "      <td>1.0</td>\n",
              "      <td>0.0</td>\n",
              "    </tr>\n",
              "    <tr>\n",
              "      <th>4</th>\n",
              "      <td>0.0</td>\n",
              "      <td>1.0</td>\n",
              "      <td>0.0</td>\n",
              "      <td>1.0</td>\n",
              "    </tr>\n",
              "  </tbody>\n",
              "</table>\n",
              "</div>"
            ],
            "text/plain": [
              "   has_a_bank_account  ...  gender_of_respondent\n",
              "0                 1.0  ...                   0.0\n",
              "1                 0.0  ...                   0.0\n",
              "2                 1.0  ...                   1.0\n",
              "3                 0.0  ...                   0.0\n",
              "4                 0.0  ...                   1.0\n",
              "\n",
              "[5 rows x 4 columns]"
            ]
          },
          "metadata": {
            "tags": []
          },
          "execution_count": 236
        }
      ]
    },
    {
      "cell_type": "markdown",
      "metadata": {
        "id": "69okGHHvgTWH",
        "colab_type": "text"
      },
      "source": [
        "Splitting the data"
      ]
    },
    {
      "cell_type": "code",
      "metadata": {
        "id": "b_7WII5RfoLe",
        "colab_type": "code",
        "colab": {}
      },
      "source": [
        "# target vector\n",
        "y = df['has_a_bank_account']\n",
        "\n",
        "# dropping as it is not a predictor\n",
        "df = df.drop('has_a_bank_account', axis = 1)"
      ],
      "execution_count": 237,
      "outputs": []
    },
    {
      "cell_type": "code",
      "metadata": {
        "id": "UGBDCenff72m",
        "colab_type": "code",
        "colab": {
          "base_uri": "https://localhost:8080/",
          "height": 86
        },
        "outputId": "83c3d677-04ce-4e67-a70e-a458db23f59a"
      },
      "source": [
        "# scaling the data so as to get rid of any dramatic results during modelling\n",
        "sc = StandardScaler()\n",
        "\n",
        "# predictors\n",
        "X = sc.fit_transform(df)\n",
        "\n",
        "# Let us now split the data into train and test\n",
        "X_train, X_test, y_train, y_test = train_test_split(X, y, test_size=0.3, random_state=42, shuffle=True)\n",
        "\n",
        "\n",
        "print(\"X-Train:\",X_train.shape)\n",
        "print(\"X-Test:\",X_test.shape)\n",
        "print(\"Y-Train:\",y_train.shape)\n",
        "print(\"Y-Test:\",y_test.shape)"
      ],
      "execution_count": 238,
      "outputs": [
        {
          "output_type": "stream",
          "text": [
            "X-Train: (16349, 3)\n",
            "X-Test: (7008, 3)\n",
            "Y-Train: (16349,)\n",
            "Y-Test: (7008,)\n"
          ],
          "name": "stdout"
        }
      ]
    },
    {
      "cell_type": "markdown",
      "metadata": {
        "id": "14mM7BOEgZwv",
        "colab_type": "text"
      },
      "source": [
        "\n",
        "**Model Prediction**\n",
        "\n",
        "Problem: Predict who is likely to open a bank account"
      ]
    },
    {
      "cell_type": "code",
      "metadata": {
        "id": "TQxX2AbdgjQ8",
        "colab_type": "code",
        "colab": {
          "base_uri": "https://localhost:8080/",
          "height": 104
        },
        "outputId": "aa593ce6-f470-4ff6-cb5e-7d7e901083b7"
      },
      "source": [
        "# creating our model instance\n",
        "log_reg = sk.LogisticRegression()\n",
        "\n",
        "# fitting the model\n",
        "log_reg.fit(X_train, y_train)"
      ],
      "execution_count": 243,
      "outputs": [
        {
          "output_type": "execute_result",
          "data": {
            "text/plain": [
              "LogisticRegression(C=1.0, class_weight=None, dual=False, fit_intercept=True,\n",
              "                   intercept_scaling=1, l1_ratio=None, max_iter=100,\n",
              "                   multi_class='auto', n_jobs=None, penalty='l2',\n",
              "                   random_state=None, solver='lbfgs', tol=0.0001, verbose=0,\n",
              "                   warm_start=False)"
            ]
          },
          "metadata": {
            "tags": []
          },
          "execution_count": 243
        }
      ]
    },
    {
      "cell_type": "code",
      "metadata": {
        "id": "nvbxyqo8hdie",
        "colab_type": "code",
        "colab": {}
      },
      "source": [
        "# predicting the target vectors\n",
        "\n",
        "y_pred=log_reg.predict(X_test)"
      ],
      "execution_count": 245,
      "outputs": []
    },
    {
      "cell_type": "code",
      "metadata": {
        "id": "7NQ4s4wBhKf7",
        "colab_type": "code",
        "colab": {
          "base_uri": "https://localhost:8080/",
          "height": 458
        },
        "outputId": "2b65e5d3-fc8c-4a8c-fcec-a210b613ae81"
      },
      "source": [
        "# # creating confusion matrix heatmap\n",
        "\n",
        "conf_matrix = pd.DataFrame(confusion_matrix(y_test, y_pred))\n",
        "fig = plt.figure(figsize=(10,7))\n",
        "sns.heatmap(conf_matrix, annot=True, annot_kws={\"size\": 16}, fmt='g')\n",
        "plt.title(\"Confusion Matrix\")\n",
        "plt.xlabel(\"Predicted Label\")\n",
        "plt.ylabel(\"True Label\")\n",
        "plt.show()"
      ],
      "execution_count": 249,
      "outputs": [
        {
          "output_type": "display_data",
          "data": {
            "image/png": "[encoded data removed]",
            "text/plain": [
              "<Figure size 720x504 with 2 Axes>"
            ]
          },
          "metadata": {
            "tags": [],
            "needs_background": "light"
          }
        }
      ]
    },
    {
      "cell_type": "code",
      "metadata": {
        "id": "gH5y3Yxtieqv",
        "colab_type": "code",
        "colab": {
          "base_uri": "https://localhost:8080/",
          "height": 228
        },
        "outputId": "dadbb469-79b9-4cbf-a796-00e9a741e0a7"
      },
      "source": [
        "# getting precision, recall and f1-score via classification report\n",
        "\n",
        "print(classification_report(y_test, y_pred))"
      ],
      "execution_count": 252,
      "outputs": [
        {
          "output_type": "stream",
          "text": [
            "              precision    recall  f1-score   support\n",
            "\n",
            "         0.0       0.86      1.00      0.92      6021\n",
            "         1.0       0.00      0.00      0.00       987\n",
            "\n",
            "    accuracy                           0.86      7008\n",
            "   macro avg       0.43      0.50      0.46      7008\n",
            "weighted avg       0.74      0.86      0.79      7008\n",
            "\n"
          ],
          "name": "stdout"
        },
        {
          "output_type": "stream",
          "text": [
            "/usr/local/lib/python3.6/dist-packages/sklearn/metrics/_classification.py:1272: UndefinedMetricWarning: Precision and F-score are ill-defined and being set to 0.0 in labels with no predicted samples. Use `zero_division` parameter to control this behavior.\n",
            "  _warn_prf(average, modifier, msg_start, len(result))\n"
          ],
          "name": "stderr"
        }
      ]
    },
    {
      "cell_type": "code",
      "metadata": {
        "id": "LCLpAmpgi12O",
        "colab_type": "code",
        "colab": {
          "base_uri": "https://localhost:8080/",
          "height": 34
        },
        "outputId": "be3cde29-1dc9-4ac1-d9bc-55aaa1e59615"
      },
      "source": [
        "# accuracy\n",
        "\n",
        "accuracy = accuracy_score(y_pred, y_test)\n",
        "\n",
        "print(f\"Accuracy: {np.round(accuracy, 3)*100.0}%\")"
      ],
      "execution_count": 256,
      "outputs": [
        {
          "output_type": "stream",
          "text": [
            "Accuracy: 85.9%\n"
          ],
          "name": "stdout"
        }
      ]
    },
    {
      "cell_type": "code",
      "metadata": {
        "id": "Ft5JKGVXb1fQ",
        "colab_type": "code",
        "colab": {
          "base_uri": "https://localhost:8080/",
          "height": 295
        },
        "outputId": "ba019905-8d15-48c7-8221-1b6a74287c2b"
      },
      "source": [
        "# plotting the ROC curve\n",
        "\n",
        "auc_roc = roc_auc_score(y_test, log_reg.predict(X_test))\n",
        "fpr, tpr, thresholds = roc_curve(y_test, log_reg.predict_proba(X_test)[:,1])\n",
        "\n",
        "plt.plot(fpr, tpr, color='darkorange', lw=2, \n",
        "         label='Average ROC curve (area = {0:0.3f})'.format(auc_roc))\n",
        "plt.plot([0, 1], [0, 1], color='black', lw=2, linestyle='--', \n",
        "         label= 'Average ROC curve (area = 0.500)')\n",
        "plt.xlim([0.0, 1.0])\n",
        "plt.ylim([0.0, 1.05])\n",
        "plt.xlabel('False Positive Rate')\n",
        "plt.ylabel('True Positive Rate')\n",
        "plt.title('Receiver operating characteristic')\n",
        "plt.legend(loc=\"lower right\")\n",
        "plt.show()"
      ],
      "execution_count": 264,
      "outputs": [
        {
          "output_type": "display_data",
          "data": {
            "image/png": "[encoded data removed]",
            "text/plain": [
              "<Figure size 432x288 with 1 Axes>"
            ]
          },
          "metadata": {
            "tags": [],
            "needs_background": "light"
          }
        }
      ]
    }
  ]
}